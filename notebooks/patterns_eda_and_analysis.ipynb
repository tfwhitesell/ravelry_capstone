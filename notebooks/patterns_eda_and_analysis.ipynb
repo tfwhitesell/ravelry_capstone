{
 "cells": [
  {
   "cell_type": "markdown",
   "metadata": {},
   "source": [
    "# EDA on patterns data"
   ]
  },
  {
   "cell_type": "code",
   "execution_count": null,
   "metadata": {},
   "outputs": [],
   "source": [
    "import pandas as pd\n",
    "import matplotlib.pyplot as plt\n",
    "import seaborn as sns\n",
    "import numpy as np\n",
    "\n",
    "%matplotlib inline"
   ]
  },
  {
   "cell_type": "code",
   "execution_count": null,
   "metadata": {},
   "outputs": [],
   "source": [
    "patterns_df = pd.read_csv('../data/df_patterns_clean2.csv', low_memory = False)"
   ]
  },
  {
   "cell_type": "code",
   "execution_count": null,
   "metadata": {},
   "outputs": [],
   "source": [
    "pd.set_option('display.max_columns', 60)\n",
    "patterns_df.head()"
   ]
  },
  {
   "cell_type": "code",
   "execution_count": null,
   "metadata": {},
   "outputs": [],
   "source": [
    "patterns_df.describe()"
   ]
  },
  {
   "cell_type": "markdown",
   "metadata": {},
   "source": [
    "There are definitely outliers in the data. Some are not surprising (favorites_count, projects_count, queued_projects_count, rating_count). These are related to pattern popularity and it was already clear that some patterns are enormously popular. I expect high counts on favorites, queued, and rating to correlate with high project count.\n",
    "\n",
    "Investigate outliers in these columns: difficulty_average, gauge, price, row_gauge, yardage, yardage_max"
   ]
  },
  {
   "cell_type": "code",
   "execution_count": null,
   "metadata": {},
   "outputs": [],
   "source": [
    "patterns_df[patterns_df['difficulty_average'] > 8]\n"
   ]
  },
  {
   "cell_type": "code",
   "execution_count": null,
   "metadata": {},
   "outputs": [],
   "source": [
    "patterns_df.hist(column = 'difficulty_average');\n",
    "# tends somewhat to the right; not unexpected, this measure is subjective and people tend to think something\n",
    "# they can do is lower on the difficulty scale"
   ]
  },
  {
   "cell_type": "code",
   "execution_count": null,
   "metadata": {},
   "outputs": [],
   "source": [
    "patterns_df[patterns_df['gauge'] > 60]\n",
    "# some of the outliers are due to differing gauge_patterns. For meaningful analysis, clean up that column\n",
    "# and limit gauge analysis to stockinette (widely accepted standard and what yarn manufacturers use).\n",
    "# Really high outliers (99 stitches over 1 or 4 inches) are clearly errors - nobody's getting that with aran yarn.\n",
    "# Possibility people don't pay attention to called-for gauge in crochet - just use the hook for the size yarn\n",
    "# and go. Will definitely be easier to limit to standard gauge stitch pattern."
   ]
  },
  {
   "cell_type": "code",
   "execution_count": null,
   "metadata": {},
   "outputs": [],
   "source": [
    "patterns_df.hist(column = 'gauge', bins = 20);"
   ]
  },
  {
   "cell_type": "code",
   "execution_count": null,
   "metadata": {},
   "outputs": [],
   "source": [
    "patterns_df[patterns_df['price'] > 50]\n",
    "# high price outliers due to different currencies - to analyze pattern prices probably most useful to limit to\n",
    "# USD or convert foreign currencies"
   ]
  },
  {
   "cell_type": "code",
   "execution_count": null,
   "metadata": {},
   "outputs": [],
   "source": [
    "patterns_df.currency.value_counts(dropna = False)\n",
    "# USD accounts for 17785 of non-free patterns. 8962 patterns in data are free. That leaves a little over 3000\n",
    "# or 10% divided among other currencies.\n",
    "# MVP might be USD only - expand to include converted currencies if time allows."
   ]
  },
  {
   "cell_type": "code",
   "execution_count": null,
   "metadata": {},
   "outputs": [],
   "source": [
    "patterns_df.hist(column = 'price', bins = 40);"
   ]
  },
  {
   "cell_type": "code",
   "execution_count": null,
   "metadata": {},
   "outputs": [],
   "source": [
    "patterns_df[patterns_df['row_gauge'] > 60]\n",
    "# should just ignore row_gauge, it's not often critical to a pattern - people are mostly concerned with stitch gauge"
   ]
  },
  {
   "cell_type": "code",
   "execution_count": null,
   "metadata": {},
   "outputs": [],
   "source": [
    "patterns_df[patterns_df['yardage'] > 10000]\n",
    "# biggest outlier is a crochet blanket (in thread weight!), so most likely not an error\n",
    "# to get meaningful yardage analysis should compare like to like, so break out categories (could compare knitting\n",
    "# to crochet yardage)"
   ]
  },
  {
   "cell_type": "code",
   "execution_count": null,
   "metadata": {},
   "outputs": [],
   "source": [
    "patterns_df.hist(column = 'yardage', bins = 60);\n",
    "# definite bias towards lower-yardage projects - understandable, they get done more quickly"
   ]
  },
  {
   "cell_type": "code",
   "execution_count": null,
   "metadata": {},
   "outputs": [],
   "source": [
    "patterns_df[patterns_df['projects_count'] > 10000]"
   ]
  },
  {
   "cell_type": "code",
   "execution_count": null,
   "metadata": {
    "scrolled": true
   },
   "outputs": [],
   "source": [
    "# count of patterns by craft\n",
    "patterns_craft = pd.DataFrame(patterns_df['craft_name'].value_counts().sort_values())\n",
    "patterns_craft"
   ]
  },
  {
   "cell_type": "code",
   "execution_count": null,
   "metadata": {
    "scrolled": true
   },
   "outputs": [],
   "source": [
    "# count of patterns by craft\n",
    "\n",
    "# Pie chart, where the slices will be ordered and plotted counter-clockwise:\n",
    "labels = ['Crochet', 'Knitting']\n",
    "slices = [5542, 24635]\n",
    "colors = ['#F3F4F0', '#EE6E62']\n",
    "\n",
    "plt.pie(slices, labels = labels, colors = colors, startangle=90, autopct='%1.1f%%')\n",
    "plt.title('Distribution of Patterns by Craft', fontname = 'Lucida Grande', fontsize = 24)\n",
    "\n",
    "plt.savefig('../images/pattcount_craft.png');"
   ]
  },
  {
   "cell_type": "code",
   "execution_count": null,
   "metadata": {},
   "outputs": [],
   "source": [
    "# count of projects by craft\n",
    "projects_craft = pd.DataFrame(patterns_df[['craft_name', 'projects_count']].groupby(['craft_name']).sum().sort_values(['projects_count']))\n",
    "projects_craft"
   ]
  },
  {
   "cell_type": "code",
   "execution_count": null,
   "metadata": {},
   "outputs": [],
   "source": [
    "# count of projects by craft\n",
    "\n",
    "# Pie chart, where the slices will be ordered and plotted counter-clockwise:\n",
    "labels = ['Crochet', 'Knitting']\n",
    "slices = ['1434540', '9587055']\n",
    "colors = ['#F3F4F0', '#EE6E62']\n",
    "\n",
    "plt.pie(slices, labels = labels, colors = colors, startangle=90, autopct='%1.1f%%')\n",
    "plt.title('Distribution of Projects by Craft', fontname = 'Lucida Grande', fontsize = 24)\n",
    "\n",
    "plt.savefig('../images/projectcount_craft.png');"
   ]
  },
  {
   "cell_type": "code",
   "execution_count": null,
   "metadata": {},
   "outputs": [],
   "source": [
    "patterns_knitting_df = patterns_df[patterns_df['craft_name'] == 'Knitting']"
   ]
  },
  {
   "cell_type": "code",
   "execution_count": null,
   "metadata": {},
   "outputs": [],
   "source": [
    "# count of patterns by type\n",
    "\n",
    "plt.figure(figsize = (30, 10))\n",
    "\n",
    "# value_counts to get frequency, sort_values to put in descending order\n",
    "plotdata = patterns_knitting_df['type_name'].value_counts().nlargest(5).sort_values()\n",
    "\n",
    "# Plot a bar chart\n",
    "plotdata.plot(kind = 'barh', color = '#EE6E62', fontsize = 14)\n",
    "\n",
    "#plt.xticks(rotation = 80, horizontalalignment = 'center')\n",
    "plt.title('Count of Knitting Patterns by Type', fontname = 'Lucida Grande', fontsize = 24)\n",
    "\n",
    "# remove axis labels - feedback from Mary and Mahesh\n",
    "#plt.xlabel('Count', fontname = 'Lucida Grande', fontsize = 16)\n",
    "#plt.ylabel('Category', fontname = 'Lucida Grande', fontsize = 16)\n",
    "\n",
    "plt.savefig('../images/pattcount_type.png', bbox_inches = 'tight');"
   ]
  },
  {
   "cell_type": "code",
   "execution_count": null,
   "metadata": {},
   "outputs": [],
   "source": [
    "project_type_df = patterns_knitting_df[['type_name', 'projects_count']].groupby(['type_name']).sum().sort_values(['projects_count']).nlargest(10, 'projects_count')\n",
    "project_type_df.head()\n"
   ]
  },
  {
   "cell_type": "code",
   "execution_count": null,
   "metadata": {},
   "outputs": [],
   "source": [
    "# count of knitting projects by pattern type\n",
    "\n",
    "# sum # of projects and group by type_name, sort_values to put in descending order\n",
    "plotdata = patterns_knitting_df[['type_name', 'projects_count']].groupby(['type_name']).sum().nlargest(5, 'projects_count').sort_values(['projects_count'])\n",
    "\n",
    "# Plot a bar chart\n",
    "plotdata.plot(kind = 'barh', figsize = (30, 10), color = '#EE6E62', fontsize = 14, legend = None)\n",
    "\n",
    "#plt.xticks(rotation = 80, horizontalalignment = 'center')\n",
    "plt.title('Count of Knitting Projects by Type (in millions)', fontname = 'Lucida Grande', fontsize = 24)\n",
    "#plt.xlabel('Count (millions)', fontname = 'Lucida Grande', fontsize = 16)\n",
    "#plt.ylabel('Category', fontname = 'Lucida Grande', fontsize = 16)\n",
    "\n",
    "plt.savefig('../images/projectcount_type.png', bbox_inches = 'tight');"
   ]
  },
  {
   "cell_type": "code",
   "execution_count": null,
   "metadata": {},
   "outputs": [],
   "source": [
    "patterncount_yarn = patterns_df['yarn_weight_description'].value_counts()\n",
    "patterncount_yarn.head()"
   ]
  },
  {
   "cell_type": "code",
   "execution_count": null,
   "metadata": {},
   "outputs": [],
   "source": [
    "# count of called-for yarn\n",
    "\n",
    "plt.figure(figsize = (30, 10))\n",
    "\n",
    "# value_counts to get frequency, sort_values to put in descending order\n",
    "plotdata = patterns_knitting_df['yarn_weight_description'].value_counts().nlargest(5).sort_values()\n",
    "\n",
    "# Plot a bar chart\n",
    "plotdata.plot(kind = 'barh', color = '#EE6E62', fontsize = 14)\n",
    "\n",
    "#plt.xticks(rotation = 80, horizontalalignment = 'center')\n",
    "plt.title('Count of Called-For Yarn by Yarn Weight', fontname = 'Lucida Grande', fontsize = 24)\n",
    "#plt.xlabel('Count', fontname = 'Lucida Grande', fontsize = 16)\n",
    "#plt.ylabel('Category', fontname = 'Lucida Grande', fontsize = 16)\n",
    "\n",
    "plt.savefig('../images/yarncount_weight.png', bbox_inches = 'tight');"
   ]
  },
  {
   "cell_type": "code",
   "execution_count": null,
   "metadata": {},
   "outputs": [],
   "source": [
    "pattern_yarn_df = patterns_knitting_df[['yarn_weight_description', 'projects_count']].groupby(['yarn_weight_description']).sum().sort_values(['projects_count'])\n",
    "pattern_yarn_df"
   ]
  },
  {
   "cell_type": "code",
   "execution_count": null,
   "metadata": {
    "scrolled": false
   },
   "outputs": [],
   "source": [
    "# count of yarn weight by projects\n",
    "\n",
    "# group by , sort_values to put in descending order\n",
    "plotdata = patterns_knitting_df[['yarn_weight_description', 'projects_count']].groupby(['yarn_weight_description']).sum().nlargest(5, 'projects_count').sort_values(['projects_count'])\n",
    "\n",
    "# Plot a bar chart\n",
    "plotdata.plot(kind = 'barh', figsize = (30, 10), color = '#EE6E62', fontsize = 14, legend = None)\n",
    "\n",
    "#plt.xticks(rotation = 80, horizontalalignment = 'center')\n",
    "plt.title('Count of Yarn Weight by Projects (in millions)', fontname = 'Lucida Grande', fontsize = 24)\n",
    "#plt.xlabel('Count (million)', fontname = 'Lucida Grande', fontsize = 16)\n",
    "#plt.ylabel('Category', fontname = 'Lucida Grande', fontsize = 16)\n",
    "\n",
    "plt.savefig('../images/projectcount_weight.png', bbox_inches = 'tight');"
   ]
  },
  {
   "cell_type": "code",
   "execution_count": null,
   "metadata": {},
   "outputs": [],
   "source": [
    "calledfor_yarn_df = patterns_knitting_df[['type_name', 'yarn_weight_description']]\n",
    "shawl_yarn_df = calledfor_yarn_df.loc[calledfor_yarn_df['type_name'] == 'Shawl/Wrap']\n",
    "sock_yarn_df = calledfor_yarn_df.loc[calledfor_yarn_df['type_name'] == 'Socks']\n",
    "hat_yarn_df = calledfor_yarn_df.loc[calledfor_yarn_df['type_name'] == 'Hat']\n",
    "child_yarn_df = calledfor_yarn_df.loc[calledfor_yarn_df['type_name'] == 'Child']\n"
   ]
  },
  {
   "cell_type": "code",
   "execution_count": null,
   "metadata": {},
   "outputs": [],
   "source": [
    "# count of called-for yarn for shawls\n",
    "\n",
    "plt.figure(figsize = (30, 10))\n",
    "\n",
    "# value_counts to get frequency, sort_values to put in descending order\n",
    "plotdata = shawl_yarn_df['yarn_weight_description'].value_counts().nlargest(5).sort_values()\n",
    "\n",
    "# Plot a bar chart\n",
    "plotdata.plot(kind = 'barh', color = '#EE6E62', fontsize = 14)\n",
    "\n",
    "#plt.xticks(rotation = 80, horizontalalignment = 'center')\n",
    "plt.title('Count of Called-For Yarn by Yarn Weight - Shawl/Wrap', fontname = 'Lucida Grande', fontsize = 24)\n",
    "#plt.xlabel('Count', fontname = 'Lucida Grande', fontsize = 16)\n",
    "#plt.ylabel('Category', fontname = 'Lucida Grande', fontsize = 16)\n",
    "\n",
    "plt.savefig('../images/shawlyarn_weight.png', bbox_inches = 'tight');"
   ]
  },
  {
   "cell_type": "code",
   "execution_count": null,
   "metadata": {},
   "outputs": [],
   "source": [
    "# count of called-for yarn for socks\n",
    "\n",
    "plt.figure(figsize = (30, 10))\n",
    "\n",
    "# value_counts to get frequency, sort_values to put in descending order\n",
    "plotdata = sock_yarn_df['yarn_weight_description'].value_counts().nlargest(5).sort_values()\n",
    "\n",
    "# Plot a bar chart\n",
    "plotdata.plot(kind = 'barh', color = '#EE6E62', fontsize = 14)\n",
    "\n",
    "#plt.xticks(rotation = 80, horizontalalignment = 'center')\n",
    "plt.title('Count of Called-For Yarn by Yarn Weight - Socks', fontname = 'Lucida Grande', fontsize = 24)\n",
    "#plt.xlabel('Count', fontname = 'Lucida Grande', fontsize = 16)\n",
    "#plt.ylabel('Category', fontname = 'Lucida Grande', fontsize = 16)\n",
    "\n",
    "plt.savefig('../images/sockyarn_weight.png', bbox_inches = 'tight');"
   ]
  },
  {
   "cell_type": "code",
   "execution_count": null,
   "metadata": {},
   "outputs": [],
   "source": [
    "# count of called-for yarn for hats\n",
    "\n",
    "plt.figure(figsize = (30, 10))\n",
    "\n",
    "# value_counts to get frequency, sort_values to put in descending order\n",
    "plotdata = hat_yarn_df['yarn_weight_description'].value_counts().nlargest(5).sort_values()\n",
    "\n",
    "# Plot a bar chart\n",
    "plotdata.plot(kind = 'barh', color = '#EE6E62', fontsize = 14)\n",
    "\n",
    "#plt.xticks(rotation = 80, horizontalalignment = 'center')\n",
    "plt.title('Count of Called-For Yarn by Yarn Weight - Hat', fontname = 'Lucida Grande', fontsize = 24)\n",
    "#plt.xlabel('Count', fontname = 'Lucida Grande', fontsize = 16)\n",
    "#plt.ylabel('Category', fontname = 'Lucida Grande', fontsize = 16)\n",
    "\n",
    "plt.savefig('../images/hatyarn_weight.png', bbox_inches = 'tight');"
   ]
  },
  {
   "cell_type": "code",
   "execution_count": null,
   "metadata": {},
   "outputs": [],
   "source": [
    "# count of called-for yarn for hats\n",
    "\n",
    "plt.figure(figsize = (30, 10))\n",
    "\n",
    "# value_counts to get frequency, sort_values to put in descending order\n",
    "plotdata = child_yarn_df['yarn_weight_description'].value_counts().nlargest(5).sort_values()\n",
    "\n",
    "# Plot a bar chart\n",
    "plotdata.plot(kind = 'barh', color = '#EE6E62', fontsize = 14)\n",
    "\n",
    "#plt.xticks(rotation = 80, horizontalalignment = 'center')\n",
    "plt.title('Count of Called-For Yarn by Yarn Weight - Child', fontname = 'Lucida Grande', fontsize = 24)\n",
    "#plt.xlabel('Count', fontname = 'Lucida Grande', fontsize = 16)\n",
    "#plt.ylabel('Category', fontname = 'Lucida Grande', fontsize = 16)\n",
    "\n",
    "plt.savefig('../images/childyarn_weight.png', bbox_inches = 'tight');"
   ]
  },
  {
   "cell_type": "code",
   "execution_count": null,
   "metadata": {},
   "outputs": [],
   "source": []
  }
 ],
 "metadata": {
  "kernelspec": {
   "display_name": "Python 3",
   "language": "python",
   "name": "python3"
  },
  "language_info": {
   "codemirror_mode": {
    "name": "ipython",
    "version": 3
   },
   "file_extension": ".py",
   "mimetype": "text/x-python",
   "name": "python",
   "nbconvert_exporter": "python",
   "pygments_lexer": "ipython3",
   "version": "3.7.6"
  }
 },
 "nbformat": 4,
 "nbformat_minor": 4
}
