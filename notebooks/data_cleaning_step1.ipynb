{
 "cells": [
  {
   "cell_type": "markdown",
   "metadata": {},
   "source": [
    "# Clean Ravelry data\n",
    "\n",
    "Remove unneeded columns.\n",
    "\n",
    "Combine yarn dataframes and shop dataframes.\n",
    "\n",
    "Explore a bit to see what else I need to clean."
   ]
  },
  {
   "cell_type": "code",
   "execution_count": null,
   "metadata": {},
   "outputs": [],
   "source": [
    "import pandas as pd\n"
   ]
  },
  {
   "cell_type": "code",
   "execution_count": null,
   "metadata": {},
   "outputs": [],
   "source": [
    "patterns_df = pd.read_csv('../data/df_pattdetails.csv', low_memory = False)"
   ]
  },
  {
   "cell_type": "code",
   "execution_count": null,
   "metadata": {},
   "outputs": [],
   "source": [
    "pd.set_option('display.max_columns', 60)\n",
    "patterns_df.head()"
   ]
  },
  {
   "cell_type": "code",
   "execution_count": null,
   "metadata": {},
   "outputs": [],
   "source": [
    "patterns_df.info()"
   ]
  },
  {
   "cell_type": "code",
   "execution_count": null,
   "metadata": {},
   "outputs": [],
   "source": [
    "patterns_df.isnull().sum()"
   ]
  },
  {
   "cell_type": "markdown",
   "metadata": {},
   "source": [
    "# Looking at columns for what is contained"
   ]
  },
  {
   "cell_type": "code",
   "execution_count": null,
   "metadata": {},
   "outputs": [],
   "source": [
    "patterns_df[['pdf_url', 'url', 'product_id']]"
   ]
  },
  {
   "cell_type": "code",
   "execution_count": null,
   "metadata": {},
   "outputs": [],
   "source": [
    "print(patterns_df.download_location.values)"
   ]
  },
  {
   "cell_type": "code",
   "execution_count": null,
   "metadata": {},
   "outputs": [],
   "source": [
    "print(patterns_df.gauge_description.values)"
   ]
  },
  {
   "cell_type": "code",
   "execution_count": null,
   "metadata": {},
   "outputs": [],
   "source": [
    "# keep column, but will need to break the info out if I need to use it\n",
    "# dictionary\n",
    "print(patterns_df.pattern_needle_sizes.values)"
   ]
  },
  {
   "cell_type": "code",
   "execution_count": null,
   "metadata": {},
   "outputs": [],
   "source": [
    "# keep column, but will need to break the info out if I need to use it\n",
    "# dictionary\n",
    "# contains called-for yarn\n",
    "print(patterns_df.packs.values)"
   ]
  },
  {
   "cell_type": "code",
   "execution_count": null,
   "metadata": {},
   "outputs": [],
   "source": [
    "print(patterns_df.printings.values)"
   ]
  },
  {
   "cell_type": "code",
   "execution_count": null,
   "metadata": {},
   "outputs": [],
   "source": [
    "# info on called-for yarn, some is duplicated elsewhere but don't drop the column in case it's needed\n",
    "\n",
    "print(patterns_df.yarn_weight.values)"
   ]
  },
  {
   "cell_type": "code",
   "execution_count": null,
   "metadata": {},
   "outputs": [],
   "source": [
    "# keep column, need to break the information out of dictionary form, this one should be straightforward\n",
    "\n",
    "print(patterns_df.craft.values)"
   ]
  },
  {
   "cell_type": "code",
   "execution_count": null,
   "metadata": {},
   "outputs": [],
   "source": [
    "# contains category information so it is needed, will have to consider best way to make it useable\n",
    "\n",
    "print(patterns_df.pattern_categories.values)"
   ]
  },
  {
   "cell_type": "code",
   "execution_count": null,
   "metadata": {},
   "outputs": [],
   "source": [
    "# keep column, although I don't know if I'll use it. Pattern attributes can get really in the weeds.\n",
    "\n",
    "print(patterns_df.pattern_attributes.values)"
   ]
  },
  {
   "cell_type": "code",
   "execution_count": null,
   "metadata": {},
   "outputs": [],
   "source": [
    "print(patterns_df.pattern_author.values)"
   ]
  },
  {
   "cell_type": "code",
   "execution_count": null,
   "metadata": {},
   "outputs": [],
   "source": [
    "print(patterns_df.photos.values)"
   ]
  },
  {
   "cell_type": "code",
   "execution_count": null,
   "metadata": {},
   "outputs": [],
   "source": [
    "# this is a better source for high-level category than pattern_categories\n",
    "\n",
    "print(patterns_df.pattern_type.values)"
   ]
  },
  {
   "cell_type": "code",
   "execution_count": null,
   "metadata": {},
   "outputs": [],
   "source": [
    "patterns_df.currency.value_counts(dropna = False)"
   ]
  },
  {
   "cell_type": "code",
   "execution_count": null,
   "metadata": {},
   "outputs": [],
   "source": [
    "# not needed in addition to currency column\n",
    "\n",
    "patterns_df.currency_symbol.value_counts(dropna = False)"
   ]
  },
  {
   "cell_type": "code",
   "execution_count": null,
   "metadata": {},
   "outputs": [],
   "source": [
    "# all values false, this is related to an individual user's library info\n",
    "\n",
    "patterns_df.pdf_in_library.value_counts(dropna = False)"
   ]
  },
  {
   "cell_type": "code",
   "execution_count": null,
   "metadata": {},
   "outputs": [],
   "source": [
    "patterns_df.downloadable.value_counts(dropna = False)"
   ]
  },
  {
   "cell_type": "code",
   "execution_count": null,
   "metadata": {},
   "outputs": [],
   "source": [
    "# this information would be useful for machine learning project, but I don't think I'll be using it\n",
    "\n",
    "print(patterns_df.notes.values)"
   ]
  },
  {
   "cell_type": "markdown",
   "metadata": {},
   "source": [
    "# Drop columns - patterns dataframe"
   ]
  },
  {
   "cell_type": "code",
   "execution_count": null,
   "metadata": {},
   "outputs": [],
   "source": [
    "# will remember to ignore index when reading to csv in future\n",
    "patterns_df = patterns_df.drop(['Unnamed: 0', 'index'], 1)\n",
    "\n",
    "# 2 columns with no non-null values\n",
    "patterns_df = patterns_df.drop(['personal_attributes', 'volumes_in_library'], 1)\n",
    "\n",
    "# a lot of nulls in several columns that won't impact on the analysis\n",
    "patterns_df = patterns_df.drop(['pdf_url', 'url', 'product_id'], 1)\n",
    "\n",
    "# columns with info duplicated in another column\n",
    "patterns_df = patterns_df.drop(['permalink', 'notes_html'], 1)\n",
    "\n",
    "# 4 date columns, keep when it was added to the Ravelry database\n",
    "patterns_df = patterns_df.drop(['generally_available', 'published', 'updated_at'], 1)\n",
    "\n",
    "# columns with unneeded information\n",
    "patterns_df = patterns_df.drop(['gauge_description', 'printings', 'pattern_author', 'photos',\n",
    "                                'currency_symbol', 'download_location', 'pdf_in_library', 'notes', 'yardage_description'], 1)\n",
    "\n",
    "# id column was duplicated when creating dataframe\n",
    "patterns_df = patterns_df.drop(['id'], 1)"
   ]
  },
  {
   "cell_type": "code",
   "execution_count": null,
   "metadata": {},
   "outputs": [],
   "source": [
    "patterns_df.head()"
   ]
  },
  {
   "cell_type": "code",
   "execution_count": null,
   "metadata": {},
   "outputs": [],
   "source": [
    "patterns_df.info()"
   ]
  },
  {
   "cell_type": "code",
   "execution_count": null,
   "metadata": {},
   "outputs": [],
   "source": [
    "# save cleaned patterns dataframe to csv\n",
    "\n",
    "patterns_df.to_csv('../data/df_patterns_clean.csv', index = False)"
   ]
  },
  {
   "cell_type": "markdown",
   "metadata": {},
   "source": [
    "----------------------------"
   ]
  },
  {
   "cell_type": "markdown",
   "metadata": {},
   "source": [
    "# Yarn dataframes"
   ]
  },
  {
   "cell_type": "code",
   "execution_count": null,
   "metadata": {},
   "outputs": [],
   "source": [
    "yarnlisting_df = pd.read_csv('../data/df_yarnlistings.csv')"
   ]
  },
  {
   "cell_type": "code",
   "execution_count": null,
   "metadata": {},
   "outputs": [],
   "source": [
    "yarnlisting_df.head()"
   ]
  },
  {
   "cell_type": "code",
   "execution_count": null,
   "metadata": {},
   "outputs": [],
   "source": [
    "yarnlisting_df.info()"
   ]
  },
  {
   "cell_type": "code",
   "execution_count": null,
   "metadata": {},
   "outputs": [],
   "source": [
    "# keep, but clean up values (standardize plied/Plied etc)\n",
    "yarnlisting_df.texture.value_counts(dropna = False)"
   ]
  },
  {
   "cell_type": "code",
   "execution_count": null,
   "metadata": {},
   "outputs": [],
   "source": [
    "# drop, only 68 non-null values\n",
    "yarnlisting_df.thread_size.value_counts(dropna = False)"
   ]
  },
  {
   "cell_type": "code",
   "execution_count": null,
   "metadata": {},
   "outputs": [],
   "source": [
    "# drop, this info would be useful if more non-null values were present\n",
    "yarnlisting_df.wpi.value_counts(dropna = False)"
   ]
  },
  {
   "cell_type": "code",
   "execution_count": null,
   "metadata": {},
   "outputs": [],
   "source": [
    "# keep, will need to break useful info out of dictionary\n",
    "print(yarnlisting_df.yarn_weight.values)"
   ]
  },
  {
   "cell_type": "markdown",
   "metadata": {},
   "source": [
    "# Drop columns from yarn listings dataframe"
   ]
  },
  {
   "cell_type": "code",
   "execution_count": null,
   "metadata": {},
   "outputs": [],
   "source": [
    "# will remember to ignore index when reading to csv in future\n",
    "yarnlisting_df = yarnlisting_df.drop(['Unnamed: 0'], 1)\n",
    "\n",
    "# one column with no non-null values\n",
    "yarnlisting_df = yarnlisting_df.drop(['personal_attributes'], 1)\n",
    "\n",
    "# a lot of nulls in two columns that won't impact on the analysis\n",
    "yarnlisting_df = yarnlisting_df.drop(['thread_size', 'wpi'], 1)\n",
    "\n",
    "# unneeded information\n",
    "yarnlisting_df = yarnlisting_df.drop(['permalink', 'first_photo'], 1)"
   ]
  },
  {
   "cell_type": "code",
   "execution_count": null,
   "metadata": {},
   "outputs": [],
   "source": [
    "yarnlisting_df.head()"
   ]
  },
  {
   "cell_type": "code",
   "execution_count": null,
   "metadata": {},
   "outputs": [],
   "source": [
    "yarnlisting_df.info()"
   ]
  },
  {
   "cell_type": "markdown",
   "metadata": {},
   "source": [
    "# Yarn details dataframe"
   ]
  },
  {
   "cell_type": "code",
   "execution_count": null,
   "metadata": {},
   "outputs": [],
   "source": [
    "yarndetails_df = pd.read_csv('../data/df_yarndetails.csv')"
   ]
  },
  {
   "cell_type": "code",
   "execution_count": null,
   "metadata": {},
   "outputs": [],
   "source": [
    "yarndetails_df.head()"
   ]
  },
  {
   "cell_type": "code",
   "execution_count": null,
   "metadata": {},
   "outputs": [],
   "source": [
    "# drop columns duplicated in yarnlisting_df except yarn_id\n",
    "yarndetails_df = yarndetails_df.drop(['Unnamed: 0', 'discontinued', 'gauge_divisor', 'grams', 'id',\n",
    "                                      'machine_washable', 'max_gauge', 'min_gauge', 'name', 'permalink',\n",
    "                                      'rating_average', 'rating_count', 'rating_total', 'texture',\n",
    "                                      'thread_size', 'wpi', 'yardage', 'personal_attributes'], 1)\n"
   ]
  },
  {
   "cell_type": "code",
   "execution_count": null,
   "metadata": {},
   "outputs": [],
   "source": [
    "yarndetails_df.head()"
   ]
  },
  {
   "cell_type": "code",
   "execution_count": null,
   "metadata": {},
   "outputs": [],
   "source": [
    "yarndetails_df.info()"
   ]
  },
  {
   "cell_type": "markdown",
   "metadata": {},
   "source": [
    "# Look at remaining columns and drop unneeded"
   ]
  },
  {
   "cell_type": "code",
   "execution_count": null,
   "metadata": {},
   "outputs": [],
   "source": [
    "print(yarndetails_df.notes_html.values)"
   ]
  },
  {
   "cell_type": "code",
   "execution_count": null,
   "metadata": {},
   "outputs": [],
   "source": [
    "# keep, but break useful info out of dictionary\n",
    "# want to use metric needle size, but break out US needle size as well in case some don't have metric info\n",
    "# for any that don't have metric info, can use US size to supply data\n",
    "print(yarndetails_df.min_needle_size.values)"
   ]
  },
  {
   "cell_type": "code",
   "execution_count": null,
   "metadata": {},
   "outputs": [],
   "source": [
    "# keep, break out yarn weight name\n",
    "print(yarndetails_df.yarn_weight.values)"
   ]
  },
  {
   "cell_type": "code",
   "execution_count": null,
   "metadata": {},
   "outputs": [],
   "source": [
    "print(yarndetails_df.yarn_company.values)"
   ]
  },
  {
   "cell_type": "code",
   "execution_count": null,
   "metadata": {},
   "outputs": [],
   "source": [
    "# keep, want to analyze yarn fiber content\n",
    "# (at least at high level - animal fiber yes/no, silk/wool/alpaca/cotton etc)\n",
    "# will include percentages in analysis depending on how I can make it work\n",
    "print(yarndetails_df.yarn_fibers.values)"
   ]
  },
  {
   "cell_type": "code",
   "execution_count": null,
   "metadata": {},
   "outputs": [],
   "source": [
    "print(yarndetails_df.photos.values)"
   ]
  },
  {
   "cell_type": "code",
   "execution_count": null,
   "metadata": {},
   "outputs": [],
   "source": [
    "# Drop unneeded columns\n",
    "\n",
    "yarndetails_df = yarndetails_df.drop(['notes_html', 'yarn_company', 'photos'], 1)"
   ]
  },
  {
   "cell_type": "code",
   "execution_count": null,
   "metadata": {},
   "outputs": [],
   "source": [
    "yarndetails_df.head()"
   ]
  },
  {
   "cell_type": "code",
   "execution_count": null,
   "metadata": {},
   "outputs": [],
   "source": [
    "yarndetails_df.info()"
   ]
  },
  {
   "cell_type": "markdown",
   "metadata": {},
   "source": [
    "# Merge yarn dataframes using yarnlisting_df.id and yarndetails_df.yarn_id"
   ]
  },
  {
   "cell_type": "code",
   "execution_count": null,
   "metadata": {},
   "outputs": [],
   "source": [
    "yarn_df = pd.merge(yarnlisting_df, yarndetails_df,\n",
    "                   left_on = 'id',\n",
    "                   right_on = 'yarn_id')\n",
    "yarn_df = yarn_df.drop(['id'], 1)\n",
    "yarn_df.head()"
   ]
  },
  {
   "cell_type": "code",
   "execution_count": null,
   "metadata": {},
   "outputs": [],
   "source": [
    "# save cleaned yarn dataframe to csv\n",
    "\n",
    "yarn_df.to_csv('../data/df_yarn_clean.csv', index = False)"
   ]
  },
  {
   "cell_type": "markdown",
   "metadata": {},
   "source": [
    "-----------------------------------"
   ]
  },
  {
   "cell_type": "markdown",
   "metadata": {},
   "source": [
    "# Shops dataframes"
   ]
  },
  {
   "cell_type": "code",
   "execution_count": null,
   "metadata": {},
   "outputs": [],
   "source": [
    "shoplisting_df = pd.read_csv('../data/df_shoplistings.csv')"
   ]
  },
  {
   "cell_type": "code",
   "execution_count": null,
   "metadata": {},
   "outputs": [],
   "source": [
    "shoplisting_df.head()"
   ]
  },
  {
   "cell_type": "code",
   "execution_count": null,
   "metadata": {},
   "outputs": [],
   "source": [
    "shoplisting_df.info()"
   ]
  },
  {
   "cell_type": "code",
   "execution_count": null,
   "metadata": {},
   "outputs": [],
   "source": [
    "# drop, all shops listed are in business according to the database\n",
    "shoplisting_df.closed.value_counts()"
   ]
  },
  {
   "cell_type": "code",
   "execution_count": null,
   "metadata": {},
   "outputs": [],
   "source": [
    "# keep for now even though there are apparently non-US shops - will clean those records after merge \n",
    "# with shop details df\n",
    "\n",
    "shoplisting_df.country.value_counts()"
   ]
  },
  {
   "cell_type": "code",
   "execution_count": null,
   "metadata": {},
   "outputs": [],
   "source": [
    "shoplisting_df.free_wifi.value_counts()"
   ]
  },
  {
   "cell_type": "code",
   "execution_count": null,
   "metadata": {},
   "outputs": [],
   "source": [
    "shoplisting_df.pos_online.value_counts()"
   ]
  },
  {
   "cell_type": "code",
   "execution_count": null,
   "metadata": {},
   "outputs": [],
   "source": [
    "shoplisting_df.ravelry_retailer.value_counts()"
   ]
  },
  {
   "cell_type": "code",
   "execution_count": null,
   "metadata": {},
   "outputs": [],
   "source": [
    "# drop unneeded columns from shop listing df\n",
    "\n",
    "# will remember to ignore index when reading to csv in future\n",
    "shoplisting_df = shoplisting_df.drop(['Unnamed: 0'], 1)\n",
    "\n",
    "# one column with no non-null values\n",
    "shoplisting_df = shoplisting_df.drop(['distance'], 1)\n",
    "\n",
    "# a lot of nulls in two columns that won't impact on the analysis\n",
    "shoplisting_df = shoplisting_df.drop(['parking', 'free_wifi', 'seating', 'twitter_id'], 1)\n",
    "\n",
    "# unneeded information\n",
    "shoplisting_df = shoplisting_df.drop(['permalink', 'phone', 'url', 'wheelchair_access', 'facebook_page',\n",
    "                                      'closed'], 1)"
   ]
  },
  {
   "cell_type": "code",
   "execution_count": null,
   "metadata": {},
   "outputs": [],
   "source": [
    "shoplisting_df.head()"
   ]
  },
  {
   "cell_type": "code",
   "execution_count": null,
   "metadata": {},
   "outputs": [],
   "source": [
    "shoplisting_df.info()"
   ]
  },
  {
   "cell_type": "code",
   "execution_count": null,
   "metadata": {},
   "outputs": [],
   "source": [
    "# examine shop listings with country listed other than US\n",
    "othercountry_list = [\"{'id': 39, 'name': 'Canada'}\", \"{'id': 228, 'name': 'United Kingdom'}\", \n",
    "                     \"{'id': 13, 'name': 'Australia'}\", \"{'id': 105, 'name': 'Ireland'}\", \n",
    "                     \"{'id': 199, 'name': 'South Africa'}\", \"{'id': 156, 'name': 'New Zealand'}\", \n",
    "                     \"{'id': 162, 'name': 'Northern Ireland'}\", \"{'id': 84, 'name': 'Germany'}\", \n",
    "                     \"{'id': 103, 'name': 'India'}\", \"{'id': 88, 'name': 'Greece'}\"]\n",
    "\n",
    "shoplisting_df.loc[shoplisting_df.country.isin(othercountry_list)]"
   ]
  },
  {
   "cell_type": "code",
   "execution_count": null,
   "metadata": {},
   "outputs": [],
   "source": [
    "drop_index = shoplisting_df[shoplisting_df.country.isin(othercountry_list)].index\n",
    "shoplisting_df = shoplisting_df.drop(drop_index).reset_index(drop = True)"
   ]
  },
  {
   "cell_type": "code",
   "execution_count": null,
   "metadata": {},
   "outputs": [],
   "source": [
    "shoplisting_df.loc[shoplisting_df.country.isin(othercountry_list)]"
   ]
  },
  {
   "cell_type": "code",
   "execution_count": null,
   "metadata": {},
   "outputs": [],
   "source": [
    "shoplisting_df.info()"
   ]
  },
  {
   "cell_type": "code",
   "execution_count": null,
   "metadata": {},
   "outputs": [],
   "source": [
    "# save cleaned shops dataframe to csv\n",
    "\n",
    "shoplisting_df.to_csv('../data/df_shop_clean.csv', index = False)"
   ]
  },
  {
   "cell_type": "markdown",
   "metadata": {},
   "source": [
    "# Shop details dataframe\n",
    "\n",
    "Having looked more closely at this dataset, there are no additional details that need to be added to the other shop df."
   ]
  }
 ],
 "metadata": {
  "kernelspec": {
   "display_name": "Python 3",
   "language": "python",
   "name": "python3"
  },
  "language_info": {
   "codemirror_mode": {
    "name": "ipython",
    "version": 3
   },
   "file_extension": ".py",
   "mimetype": "text/x-python",
   "name": "python",
   "nbconvert_exporter": "python",
   "pygments_lexer": "ipython3",
   "version": "3.7.6"
  }
 },
 "nbformat": 4,
 "nbformat_minor": 4
}
