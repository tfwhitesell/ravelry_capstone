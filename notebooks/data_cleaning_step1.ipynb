{
 "cells": [
  {
   "cell_type": "markdown",
   "metadata": {},
   "source": [
    "# Clean Ravelry data\n",
    "\n",
    "Remove unneeded columns.\n",
    "\n",
    "Combine yarn dataframes and shop dataframes.\n",
    "\n",
    "Explore a bit to see what else I need to clean."
   ]
  },
  {
   "cell_type": "code",
   "execution_count": 1,
   "metadata": {},
   "outputs": [],
   "source": [
    "import pandas as pd\n"
   ]
  },
  {
   "cell_type": "code",
   "execution_count": null,
   "metadata": {},
   "outputs": [],
   "source": [
    "patterns_df = pd.read_csv('../data/df_pattdetails.csv', low_memory = False)"
   ]
  },
  {
   "cell_type": "code",
   "execution_count": null,
   "metadata": {},
   "outputs": [],
   "source": [
    "pd.set_option('display.max_columns', 60)\n",
    "patterns_df.head()"
   ]
  },
  {
   "cell_type": "code",
   "execution_count": null,
   "metadata": {},
   "outputs": [],
   "source": [
    "patterns_df.info()"
   ]
  },
  {
   "cell_type": "code",
   "execution_count": null,
   "metadata": {},
   "outputs": [],
   "source": [
    "patterns_df.isnull().sum()"
   ]
  },
  {
   "cell_type": "markdown",
   "metadata": {},
   "source": [
    "# Looking at columns for what is contained"
   ]
  },
  {
   "cell_type": "code",
   "execution_count": null,
   "metadata": {},
   "outputs": [],
   "source": [
    "patterns_df[['pdf_url', 'url', 'product_id']]"
   ]
  },
  {
   "cell_type": "code",
   "execution_count": null,
   "metadata": {},
   "outputs": [],
   "source": [
    "print(patterns_df.download_location.values)"
   ]
  },
  {
   "cell_type": "code",
   "execution_count": null,
   "metadata": {},
   "outputs": [],
   "source": [
    "print(patterns_df.gauge_description.values)"
   ]
  },
  {
   "cell_type": "code",
   "execution_count": null,
   "metadata": {},
   "outputs": [],
   "source": [
    "# keep column, but will need to break the info out if I need to use it\n",
    "# dictionary\n",
    "print(patterns_df.pattern_needle_sizes.values)"
   ]
  },
  {
   "cell_type": "code",
   "execution_count": null,
   "metadata": {},
   "outputs": [],
   "source": [
    "# keep column, but will need to break the info out if I need to use it\n",
    "# dictionary\n",
    "# contains called-for yarn\n",
    "print(patterns_df.packs.values)"
   ]
  },
  {
   "cell_type": "code",
   "execution_count": null,
   "metadata": {},
   "outputs": [],
   "source": [
    "print(patterns_df.printings.values)"
   ]
  },
  {
   "cell_type": "code",
   "execution_count": null,
   "metadata": {},
   "outputs": [],
   "source": [
    "# info on called-for yarn, some is duplicated elsewhere but don't drop the column in case it's needed\n",
    "\n",
    "print(patterns_df.yarn_weight.values)"
   ]
  },
  {
   "cell_type": "code",
   "execution_count": null,
   "metadata": {},
   "outputs": [],
   "source": [
    "# keep column, need to break the information out of dictionary form, this one should be straightforward\n",
    "\n",
    "print(patterns_df.craft.values)"
   ]
  },
  {
   "cell_type": "code",
   "execution_count": null,
   "metadata": {},
   "outputs": [],
   "source": [
    "# contains category information so it is needed, will have to consider best way to make it useable\n",
    "\n",
    "print(patterns_df.pattern_categories.values)"
   ]
  },
  {
   "cell_type": "code",
   "execution_count": null,
   "metadata": {},
   "outputs": [],
   "source": [
    "# keep column, although I don't know if I'll use it. Pattern attributes can get really in the weeds.\n",
    "\n",
    "print(patterns_df.pattern_attributes.values)"
   ]
  },
  {
   "cell_type": "code",
   "execution_count": null,
   "metadata": {},
   "outputs": [],
   "source": [
    "print(patterns_df.pattern_author.values)"
   ]
  },
  {
   "cell_type": "code",
   "execution_count": null,
   "metadata": {},
   "outputs": [],
   "source": [
    "print(patterns_df.photos.values)"
   ]
  },
  {
   "cell_type": "code",
   "execution_count": null,
   "metadata": {},
   "outputs": [],
   "source": [
    "# this is a better source for high-level category than pattern_categories\n",
    "\n",
    "print(patterns_df.pattern_type.values)"
   ]
  },
  {
   "cell_type": "code",
   "execution_count": null,
   "metadata": {},
   "outputs": [],
   "source": [
    "patterns_df.currency.value_counts(dropna = False)"
   ]
  },
  {
   "cell_type": "code",
   "execution_count": null,
   "metadata": {},
   "outputs": [],
   "source": [
    "# not needed in addition to currency column\n",
    "\n",
    "patterns_df.currency_symbol.value_counts(dropna = False)"
   ]
  },
  {
   "cell_type": "code",
   "execution_count": null,
   "metadata": {},
   "outputs": [],
   "source": [
    "# all values false, this is related to an individual user's library info\n",
    "\n",
    "patterns_df.pdf_in_library.value_counts(dropna = False)"
   ]
  },
  {
   "cell_type": "code",
   "execution_count": null,
   "metadata": {},
   "outputs": [],
   "source": [
    "patterns_df.downloadable.value_counts(dropna = False)"
   ]
  },
  {
   "cell_type": "code",
   "execution_count": null,
   "metadata": {},
   "outputs": [],
   "source": [
    "# this information would be useful for machine learning project, but I don't think I'll be using it\n",
    "\n",
    "print(patterns_df.notes.values)"
   ]
  },
  {
   "cell_type": "markdown",
   "metadata": {},
   "source": [
    "# Drop columns - patterns dataframe"
   ]
  },
  {
   "cell_type": "code",
   "execution_count": null,
   "metadata": {},
   "outputs": [],
   "source": [
    "# will remember to ignore index when reading to csv in future\n",
    "patterns_df = patterns_df.drop(['Unnamed: 0', 'index'], 1)\n",
    "\n",
    "# 2 columns with no non-null values\n",
    "patterns_df = patterns_df.drop(['personal_attributes', 'volumes_in_library'], 1)\n",
    "\n",
    "# a lot of nulls in several columns that won't impact on the analysis\n",
    "patterns_df = patterns_df.drop(['pdf_url', 'url', 'product_id'], 1)\n",
    "\n",
    "# columns with info duplicated in another column\n",
    "patterns_df = patterns_df.drop(['permalink', 'notes_html'], 1)\n",
    "\n",
    "# 4 date columns, keep when it was added to the Ravelry database\n",
    "patterns_df = patterns_df.drop(['generally_available', 'published', 'updated_at'], 1)\n",
    "\n",
    "# columns with unneeded information\n",
    "patterns_df = patterns_df.drop(['gauge_description', 'printings', 'pattern_author', 'photos',\n",
    "                                'currency_symbol', 'download_location', 'pdf_in_library', 'notes'], 1)\n",
    "\n",
    "# id column was duplicated when creating dataframe\n",
    "patterns_df = patterns_df.drop(['id'], 1)"
   ]
  },
  {
   "cell_type": "code",
   "execution_count": null,
   "metadata": {},
   "outputs": [],
   "source": [
    "patterns_df.head()"
   ]
  },
  {
   "cell_type": "code",
   "execution_count": null,
   "metadata": {},
   "outputs": [],
   "source": [
    "patterns_df.info()"
   ]
  },
  {
   "cell_type": "code",
   "execution_count": null,
   "metadata": {},
   "outputs": [],
   "source": [
    "# save cleaned patterns dataframe to csv\n",
    "\n",
    "patterns_df.to_csv('../data/df_patterns_clean.csv', index = False)"
   ]
  },
  {
   "cell_type": "markdown",
   "metadata": {},
   "source": [
    "----------------------------"
   ]
  },
  {
   "cell_type": "markdown",
   "metadata": {},
   "source": [
    "# Yarn dataframes"
   ]
  },
  {
   "cell_type": "code",
   "execution_count": null,
   "metadata": {},
   "outputs": [],
   "source": [
    "yarnlisting_df = pd.read_csv('../data/df_yarnlistings.csv')"
   ]
  },
  {
   "cell_type": "code",
   "execution_count": null,
   "metadata": {},
   "outputs": [],
   "source": [
    "yarnlisting_df.head()"
   ]
  },
  {
   "cell_type": "code",
   "execution_count": null,
   "metadata": {},
   "outputs": [],
   "source": [
    "yarnlisting_df.info()"
   ]
  },
  {
   "cell_type": "code",
   "execution_count": null,
   "metadata": {},
   "outputs": [],
   "source": [
    "# keep, but clean up values (standardize plied/Plied etc)\n",
    "yarnlisting_df.texture.value_counts(dropna = False)"
   ]
  },
  {
   "cell_type": "code",
   "execution_count": null,
   "metadata": {},
   "outputs": [],
   "source": [
    "# drop, only 68 non-null values\n",
    "yarnlisting_df.thread_size.value_counts(dropna = False)"
   ]
  },
  {
   "cell_type": "code",
   "execution_count": null,
   "metadata": {},
   "outputs": [],
   "source": [
    "# drop, this info would be useful if more non-null values were present\n",
    "yarnlisting_df.wpi.value_counts(dropna = False)"
   ]
  },
  {
   "cell_type": "code",
   "execution_count": null,
   "metadata": {},
   "outputs": [],
   "source": [
    "# keep, will need to break useful info out of dictionary\n",
    "print(yarnlisting_df.yarn_weight.values)"
   ]
  },
  {
   "cell_type": "markdown",
   "metadata": {},
   "source": [
    "# Drop columns from yarn listings dataframe"
   ]
  },
  {
   "cell_type": "code",
   "execution_count": null,
   "metadata": {},
   "outputs": [],
   "source": [
    "# will remember to ignore index when reading to csv in future\n",
    "yarnlisting_df = yarnlisting_df.drop(['Unnamed: 0'], 1)\n",
    "\n",
    "# one column with no non-null values\n",
    "yarnlisting_df = yarnlisting_df.drop(['personal_attributes'], 1)\n",
    "\n",
    "# a lot of nulls in two columns that won't impact on the analysis\n",
    "yarnlisting_df = yarnlisting_df.drop(['thread_size', 'wpi'], 1)\n",
    "\n",
    "# unneeded information\n",
    "yarnlisting_df = yarnlisting_df.drop(['permalink', 'first_photo'], 1)"
   ]
  },
  {
   "cell_type": "code",
   "execution_count": null,
   "metadata": {},
   "outputs": [],
   "source": [
    "yarnlisting_df.head()"
   ]
  },
  {
   "cell_type": "code",
   "execution_count": null,
   "metadata": {},
   "outputs": [],
   "source": [
    "yarnlisting_df.info()"
   ]
  },
  {
   "cell_type": "markdown",
   "metadata": {},
   "source": [
    "# Yarn details dataframe"
   ]
  },
  {
   "cell_type": "code",
   "execution_count": null,
   "metadata": {},
   "outputs": [],
   "source": [
    "yarndetails_df = pd.read_csv('../data/df_yarndetails.csv')"
   ]
  },
  {
   "cell_type": "code",
   "execution_count": null,
   "metadata": {},
   "outputs": [],
   "source": [
    "yarndetails_df.head()"
   ]
  },
  {
   "cell_type": "code",
   "execution_count": null,
   "metadata": {},
   "outputs": [],
   "source": [
    "# drop columns duplicated in yarnlisting_df except yarn_id\n",
    "yarndetails_df = yarndetails_df.drop(['Unnamed: 0', 'discontinued', 'gauge_divisor', 'grams', 'id',\n",
    "                                      'machine_washable', 'max_gauge', 'min_gauge', 'name', 'permalink',\n",
    "                                      'rating_average', 'rating_count', 'rating_total', 'texture',\n",
    "                                      'thread_size', 'wpi', 'yardage', 'personal_attributes'], 1)\n"
   ]
  },
  {
   "cell_type": "code",
   "execution_count": null,
   "metadata": {},
   "outputs": [],
   "source": [
    "yarndetails_df.head()"
   ]
  },
  {
   "cell_type": "code",
   "execution_count": null,
   "metadata": {},
   "outputs": [],
   "source": [
    "yarndetails_df.info()"
   ]
  },
  {
   "cell_type": "markdown",
   "metadata": {},
   "source": [
    "# Look at remaining columns and drop unneeded"
   ]
  },
  {
   "cell_type": "code",
   "execution_count": null,
   "metadata": {},
   "outputs": [],
   "source": [
    "print(yarndetails_df.notes_html.values)"
   ]
  },
  {
   "cell_type": "code",
   "execution_count": null,
   "metadata": {},
   "outputs": [],
   "source": [
    "# keep, but break useful info out of dictionary\n",
    "# want to use metric needle size, but break out US needle size as well in case some don't have metric info\n",
    "# for any that don't have metric info, can use US size to supply data\n",
    "print(yarndetails_df.min_needle_size.values)"
   ]
  },
  {
   "cell_type": "code",
   "execution_count": null,
   "metadata": {},
   "outputs": [],
   "source": [
    "# keep, break out yarn weight name\n",
    "print(yarndetails_df.yarn_weight.values)"
   ]
  },
  {
   "cell_type": "code",
   "execution_count": null,
   "metadata": {},
   "outputs": [],
   "source": [
    "print(yarndetails_df.yarn_company.values)"
   ]
  },
  {
   "cell_type": "code",
   "execution_count": null,
   "metadata": {},
   "outputs": [],
   "source": [
    "# keep, want to analyze yarn fiber content\n",
    "# (at least at high level - animal fiber yes/no, silk/wool/alpaca/cotton etc)\n",
    "# will include percentages in analysis depending on how I can make it work\n",
    "print(yarndetails_df.yarn_fibers.values)"
   ]
  },
  {
   "cell_type": "code",
   "execution_count": null,
   "metadata": {},
   "outputs": [],
   "source": [
    "print(yarndetails_df.photos.values)"
   ]
  },
  {
   "cell_type": "code",
   "execution_count": null,
   "metadata": {},
   "outputs": [],
   "source": [
    "# Drop unneeded columns\n",
    "\n",
    "yarndetails_df = yarndetails_df.drop(['notes_html', 'yarn_company', 'photos'], 1)"
   ]
  },
  {
   "cell_type": "code",
   "execution_count": null,
   "metadata": {},
   "outputs": [],
   "source": [
    "yarndetails_df.head()"
   ]
  },
  {
   "cell_type": "code",
   "execution_count": null,
   "metadata": {},
   "outputs": [],
   "source": [
    "yarndetails_df.info()"
   ]
  },
  {
   "cell_type": "markdown",
   "metadata": {},
   "source": [
    "# Merge yarn dataframes using yarnlisting_df.id and yarndetails_df.yarn_id"
   ]
  },
  {
   "cell_type": "code",
   "execution_count": null,
   "metadata": {},
   "outputs": [],
   "source": [
    "yarn_df = pd.merge(yarnlisting_df, yarndetails_df,\n",
    "                   left_on = 'id',\n",
    "                   right_on = 'yarn_id')\n",
    "yarn_df = yarn_df.drop(['id'], 1)\n",
    "yarn_df.head()"
   ]
  },
  {
   "cell_type": "code",
   "execution_count": null,
   "metadata": {},
   "outputs": [],
   "source": [
    "# save cleaned yarn dataframe to csv\n",
    "\n",
    "yarn_df.to_csv('../data/df_yarn_clean.csv', index = False)"
   ]
  },
  {
   "cell_type": "markdown",
   "metadata": {},
   "source": [
    "-----------------------------------"
   ]
  },
  {
   "cell_type": "markdown",
   "metadata": {},
   "source": [
    "# Shops dataframes"
   ]
  },
  {
   "cell_type": "code",
   "execution_count": 2,
   "metadata": {},
   "outputs": [],
   "source": [
    "shoplisting_df = pd.read_csv('../data/df_shoplistings.csv')"
   ]
  },
  {
   "cell_type": "code",
   "execution_count": 6,
   "metadata": {
    "collapsed": true
   },
   "outputs": [
    {
     "data": {
      "text/html": [
       "<div>\n",
       "<style scoped>\n",
       "    .dataframe tbody tr th:only-of-type {\n",
       "        vertical-align: middle;\n",
       "    }\n",
       "\n",
       "    .dataframe tbody tr th {\n",
       "        vertical-align: top;\n",
       "    }\n",
       "\n",
       "    .dataframe thead th {\n",
       "        text-align: right;\n",
       "    }\n",
       "</style>\n",
       "<table border=\"1\" class=\"dataframe\">\n",
       "  <thead>\n",
       "    <tr style=\"text-align: right;\">\n",
       "      <th></th>\n",
       "      <th>Unnamed: 0</th>\n",
       "      <th>address</th>\n",
       "      <th>city</th>\n",
       "      <th>closed</th>\n",
       "      <th>facebook_page</th>\n",
       "      <th>free_wifi</th>\n",
       "      <th>id</th>\n",
       "      <th>latitude</th>\n",
       "      <th>location</th>\n",
       "      <th>longitude</th>\n",
       "      <th>name</th>\n",
       "      <th>parking</th>\n",
       "      <th>permalink</th>\n",
       "      <th>phone</th>\n",
       "      <th>pos_online</th>\n",
       "      <th>ravelry_retailer</th>\n",
       "      <th>seating</th>\n",
       "      <th>shop_email</th>\n",
       "      <th>twitter_id</th>\n",
       "      <th>url</th>\n",
       "      <th>wheelchair_access</th>\n",
       "      <th>zip</th>\n",
       "      <th>distance</th>\n",
       "      <th>country</th>\n",
       "      <th>state</th>\n",
       "    </tr>\n",
       "  </thead>\n",
       "  <tbody>\n",
       "    <tr>\n",
       "      <th>0</th>\n",
       "      <td>0</td>\n",
       "      <td>5 Alabama Avenue (soon)</td>\n",
       "      <td>LaFayette</td>\n",
       "      <td>False</td>\n",
       "      <td>https://www.facebook.com/courthouseyarnier/</td>\n",
       "      <td>True</td>\n",
       "      <td>6459</td>\n",
       "      <td>NaN</td>\n",
       "      <td>5 Alabama Avenue (soon), LaFayette, Alabama</td>\n",
       "      <td>NaN</td>\n",
       "      <td>Courthouse Yanier</td>\n",
       "      <td>True</td>\n",
       "      <td>courthouse-yanier</td>\n",
       "      <td>910-346-6430</td>\n",
       "      <td>True</td>\n",
       "      <td>False</td>\n",
       "      <td>True</td>\n",
       "      <td>phootsy@courthouseyarnier.com</td>\n",
       "      <td>NaN</td>\n",
       "      <td>http://www.yarnier.com</td>\n",
       "      <td>True</td>\n",
       "      <td>36862</td>\n",
       "      <td>NaN</td>\n",
       "      <td>{'id': 229, 'name': 'United States'}</td>\n",
       "      <td>{'id': 3596, 'name': 'Alabama'}</td>\n",
       "    </tr>\n",
       "    <tr>\n",
       "      <th>1</th>\n",
       "      <td>1</td>\n",
       "      <td>817B Regal Drive</td>\n",
       "      <td>Huntsville</td>\n",
       "      <td>False</td>\n",
       "      <td>http://www.facebook.com/#!/pages/Fiber-Art-Work/</td>\n",
       "      <td>True</td>\n",
       "      <td>9966</td>\n",
       "      <td>34.7091</td>\n",
       "      <td>817B Regal Drive, Huntsville, Alabama</td>\n",
       "      <td>-86.5875</td>\n",
       "      <td>Fiber Art Work</td>\n",
       "      <td>True</td>\n",
       "      <td>fiber-art-work</td>\n",
       "      <td>256-656-0163</td>\n",
       "      <td>True</td>\n",
       "      <td>True</td>\n",
       "      <td>True</td>\n",
       "      <td>fiberartwork@gmail.com</td>\n",
       "      <td>NaN</td>\n",
       "      <td>http://www.fiberartwork.com</td>\n",
       "      <td>True</td>\n",
       "      <td>35801</td>\n",
       "      <td>NaN</td>\n",
       "      <td>{'id': 229, 'name': 'United States'}</td>\n",
       "      <td>{'id': 3596, 'name': 'Alabama'}</td>\n",
       "    </tr>\n",
       "    <tr>\n",
       "      <th>2</th>\n",
       "      <td>2</td>\n",
       "      <td>25219 Hwy 195, P.O. Box 392 (for mailing)</td>\n",
       "      <td>Double Springs</td>\n",
       "      <td>False</td>\n",
       "      <td>Fine Yarns On Main</td>\n",
       "      <td>NaN</td>\n",
       "      <td>11655</td>\n",
       "      <td>34.1465</td>\n",
       "      <td>25219 Hwy 195, P.O. Box 392 (for mailing), Dou...</td>\n",
       "      <td>-87.4022</td>\n",
       "      <td>Fine Yarns on Main</td>\n",
       "      <td>NaN</td>\n",
       "      <td>fine-yarns-on-main</td>\n",
       "      <td>205-489-8009</td>\n",
       "      <td>False</td>\n",
       "      <td>True</td>\n",
       "      <td>NaN</td>\n",
       "      <td>fineyarnsonmain@gmail.com</td>\n",
       "      <td>NaN</td>\n",
       "      <td>http://www.ravelry.com/shops/fine-yarns-on-main</td>\n",
       "      <td>NaN</td>\n",
       "      <td>35553</td>\n",
       "      <td>NaN</td>\n",
       "      <td>{'id': 229, 'name': 'United States'}</td>\n",
       "      <td>{'id': 3596, 'name': 'Alabama'}</td>\n",
       "    </tr>\n",
       "    <tr>\n",
       "      <th>3</th>\n",
       "      <td>3</td>\n",
       "      <td>15314 Court Street</td>\n",
       "      <td>Moulton</td>\n",
       "      <td>False</td>\n",
       "      <td>NaN</td>\n",
       "      <td>NaN</td>\n",
       "      <td>8023</td>\n",
       "      <td>34.4825</td>\n",
       "      <td>15314 Court Street, Moulton, Alabama</td>\n",
       "      <td>-87.2766</td>\n",
       "      <td>Granny’s Quilt Shop</td>\n",
       "      <td>NaN</td>\n",
       "      <td>grannys-quilt-shop</td>\n",
       "      <td>256-685-3000</td>\n",
       "      <td>False</td>\n",
       "      <td>False</td>\n",
       "      <td>NaN</td>\n",
       "      <td>NaN</td>\n",
       "      <td>NaN</td>\n",
       "      <td>NaN</td>\n",
       "      <td>NaN</td>\n",
       "      <td>35650</td>\n",
       "      <td>NaN</td>\n",
       "      <td>{'id': 229, 'name': 'United States'}</td>\n",
       "      <td>{'id': 3596, 'name': 'Alabama'}</td>\n",
       "    </tr>\n",
       "    <tr>\n",
       "      <th>4</th>\n",
       "      <td>4</td>\n",
       "      <td>105 D Church Street</td>\n",
       "      <td>Madison</td>\n",
       "      <td>False</td>\n",
       "      <td>https://www.facebook.com/Hook-A-Frog-Fiber-and...</td>\n",
       "      <td>True</td>\n",
       "      <td>12262</td>\n",
       "      <td>34.6946</td>\n",
       "      <td>105 D Church Street, Madison, Alabama</td>\n",
       "      <td>-86.7487</td>\n",
       "      <td>Hook A Frog Fiber &amp; Fun</td>\n",
       "      <td>NaN</td>\n",
       "      <td>hook-a-frog-fiber--fun</td>\n",
       "      <td>256-325-0572</td>\n",
       "      <td>True</td>\n",
       "      <td>False</td>\n",
       "      <td>True</td>\n",
       "      <td>hookafrog@gmail.com</td>\n",
       "      <td>NaN</td>\n",
       "      <td>http://www.hookafrog.net</td>\n",
       "      <td>NaN</td>\n",
       "      <td>35758</td>\n",
       "      <td>NaN</td>\n",
       "      <td>{'id': 229, 'name': 'United States'}</td>\n",
       "      <td>{'id': 3596, 'name': 'Alabama'}</td>\n",
       "    </tr>\n",
       "  </tbody>\n",
       "</table>\n",
       "</div>"
      ],
      "text/plain": [
       "   Unnamed: 0                                    address            city  \\\n",
       "0           0                    5 Alabama Avenue (soon)       LaFayette   \n",
       "1           1                           817B Regal Drive      Huntsville   \n",
       "2           2  25219 Hwy 195, P.O. Box 392 (for mailing)  Double Springs   \n",
       "3           3                         15314 Court Street         Moulton   \n",
       "4           4                        105 D Church Street         Madison   \n",
       "\n",
       "   closed                                      facebook_page free_wifi     id  \\\n",
       "0   False        https://www.facebook.com/courthouseyarnier/      True   6459   \n",
       "1   False   http://www.facebook.com/#!/pages/Fiber-Art-Work/      True   9966   \n",
       "2   False                                 Fine Yarns On Main       NaN  11655   \n",
       "3   False                                                NaN       NaN   8023   \n",
       "4   False  https://www.facebook.com/Hook-A-Frog-Fiber-and...      True  12262   \n",
       "\n",
       "   latitude                                           location  longitude  \\\n",
       "0       NaN        5 Alabama Avenue (soon), LaFayette, Alabama        NaN   \n",
       "1   34.7091              817B Regal Drive, Huntsville, Alabama   -86.5875   \n",
       "2   34.1465  25219 Hwy 195, P.O. Box 392 (for mailing), Dou...   -87.4022   \n",
       "3   34.4825               15314 Court Street, Moulton, Alabama   -87.2766   \n",
       "4   34.6946              105 D Church Street, Madison, Alabama   -86.7487   \n",
       "\n",
       "                      name parking               permalink         phone  \\\n",
       "0        Courthouse Yanier    True       courthouse-yanier  910-346-6430   \n",
       "1           Fiber Art Work    True          fiber-art-work  256-656-0163   \n",
       "2       Fine Yarns on Main     NaN      fine-yarns-on-main  205-489-8009   \n",
       "3      Granny’s Quilt Shop     NaN      grannys-quilt-shop  256-685-3000   \n",
       "4  Hook A Frog Fiber & Fun     NaN  hook-a-frog-fiber--fun  256-325-0572   \n",
       "\n",
       "   pos_online  ravelry_retailer seating                     shop_email  \\\n",
       "0        True             False    True  phootsy@courthouseyarnier.com   \n",
       "1        True              True    True         fiberartwork@gmail.com   \n",
       "2       False              True     NaN      fineyarnsonmain@gmail.com   \n",
       "3       False             False     NaN                            NaN   \n",
       "4        True             False    True            hookafrog@gmail.com   \n",
       "\n",
       "  twitter_id                                              url  \\\n",
       "0        NaN                           http://www.yarnier.com   \n",
       "1        NaN                      http://www.fiberartwork.com   \n",
       "2        NaN  http://www.ravelry.com/shops/fine-yarns-on-main   \n",
       "3        NaN                                              NaN   \n",
       "4        NaN                         http://www.hookafrog.net   \n",
       "\n",
       "  wheelchair_access    zip  distance                               country  \\\n",
       "0              True  36862       NaN  {'id': 229, 'name': 'United States'}   \n",
       "1              True  35801       NaN  {'id': 229, 'name': 'United States'}   \n",
       "2               NaN  35553       NaN  {'id': 229, 'name': 'United States'}   \n",
       "3               NaN  35650       NaN  {'id': 229, 'name': 'United States'}   \n",
       "4               NaN  35758       NaN  {'id': 229, 'name': 'United States'}   \n",
       "\n",
       "                             state  \n",
       "0  {'id': 3596, 'name': 'Alabama'}  \n",
       "1  {'id': 3596, 'name': 'Alabama'}  \n",
       "2  {'id': 3596, 'name': 'Alabama'}  \n",
       "3  {'id': 3596, 'name': 'Alabama'}  \n",
       "4  {'id': 3596, 'name': 'Alabama'}  "
      ]
     },
     "execution_count": 6,
     "metadata": {},
     "output_type": "execute_result"
    }
   ],
   "source": [
    "shoplisting_df.head()"
   ]
  },
  {
   "cell_type": "code",
   "execution_count": 4,
   "metadata": {
    "collapsed": true
   },
   "outputs": [
    {
     "name": "stdout",
     "output_type": "stream",
     "text": [
      "<class 'pandas.core.frame.DataFrame'>\n",
      "RangeIndex: 2613 entries, 0 to 2612\n",
      "Data columns (total 25 columns):\n",
      " #   Column             Non-Null Count  Dtype  \n",
      "---  ------             --------------  -----  \n",
      " 0   Unnamed: 0         2613 non-null   int64  \n",
      " 1   address            2550 non-null   object \n",
      " 2   city               2610 non-null   object \n",
      " 3   closed             2613 non-null   bool   \n",
      " 4   facebook_page      1308 non-null   object \n",
      " 5   free_wifi          1024 non-null   object \n",
      " 6   id                 2613 non-null   int64  \n",
      " 7   latitude           2519 non-null   float64\n",
      " 8   location           2610 non-null   object \n",
      " 9   longitude          2519 non-null   float64\n",
      " 10  name               2613 non-null   object \n",
      " 11  parking            814 non-null    object \n",
      " 12  permalink          2613 non-null   object \n",
      " 13  phone              2083 non-null   object \n",
      " 14  pos_online         2613 non-null   bool   \n",
      " 15  ravelry_retailer   2613 non-null   bool   \n",
      " 16  seating            1297 non-null   object \n",
      " 17  shop_email         1344 non-null   object \n",
      " 18  twitter_id         346 non-null    object \n",
      " 19  url                2190 non-null   object \n",
      " 20  wheelchair_access  1089 non-null   object \n",
      " 21  zip                2551 non-null   object \n",
      " 22  distance           0 non-null      float64\n",
      " 23  country            2613 non-null   object \n",
      " 24  state              2610 non-null   object \n",
      "dtypes: bool(3), float64(3), int64(2), object(17)\n",
      "memory usage: 456.9+ KB\n"
     ]
    }
   ],
   "source": [
    "shoplisting_df.info()"
   ]
  },
  {
   "cell_type": "code",
   "execution_count": 5,
   "metadata": {
    "collapsed": true
   },
   "outputs": [
    {
     "data": {
      "text/plain": [
       "False    2613\n",
       "Name: closed, dtype: int64"
      ]
     },
     "execution_count": 5,
     "metadata": {},
     "output_type": "execute_result"
    }
   ],
   "source": [
    "# drop, all shops listed are in business according to the database\n",
    "shoplisting_df.closed.value_counts()"
   ]
  },
  {
   "cell_type": "code",
   "execution_count": 11,
   "metadata": {},
   "outputs": [
    {
     "data": {
      "text/plain": [
       "{'id': 229, 'name': 'United States'}       2535\n",
       "{'id': 39, 'name': 'Canada'}                 30\n",
       "{'id': 228, 'name': 'United Kingdom'}        13\n",
       "{'id': 13, 'name': 'Australia'}               9\n",
       "{'id': 105, 'name': 'Ireland'}                7\n",
       "{'id': 199, 'name': 'South Africa'}           4\n",
       "{'id': 156, 'name': 'New Zealand'}            4\n",
       "{'id': 162, 'name': 'Northern Ireland'}       4\n",
       "{'id': 84, 'name': 'Germany'}                 4\n",
       "{'id': 103, 'name': 'India'}                  2\n",
       "{'id': 88, 'name': 'Greece'}                  1\n",
       "Name: country, dtype: int64"
      ]
     },
     "execution_count": 11,
     "metadata": {},
     "output_type": "execute_result"
    }
   ],
   "source": [
    "# keep for now even though there are apparently non-US shops - will clean those records after merge \n",
    "# with shop details df\n",
    "\n",
    "shoplisting_df.country.value_counts()"
   ]
  },
  {
   "cell_type": "code",
   "execution_count": 9,
   "metadata": {
    "collapsed": true
   },
   "outputs": [
    {
     "data": {
      "text/plain": [
       "True     874\n",
       "False    150\n",
       "Name: free_wifi, dtype: int64"
      ]
     },
     "execution_count": 9,
     "metadata": {},
     "output_type": "execute_result"
    }
   ],
   "source": [
    "shoplisting_df.free_wifi.value_counts()"
   ]
  },
  {
   "cell_type": "code",
   "execution_count": 12,
   "metadata": {
    "collapsed": true
   },
   "outputs": [
    {
     "data": {
      "text/plain": [
       "False    1919\n",
       "True      694\n",
       "Name: pos_online, dtype: int64"
      ]
     },
     "execution_count": 12,
     "metadata": {},
     "output_type": "execute_result"
    }
   ],
   "source": [
    "shoplisting_df.pos_online.value_counts()"
   ]
  },
  {
   "cell_type": "code",
   "execution_count": 13,
   "metadata": {
    "collapsed": true
   },
   "outputs": [
    {
     "data": {
      "text/plain": [
       "True     1430\n",
       "False    1183\n",
       "Name: ravelry_retailer, dtype: int64"
      ]
     },
     "execution_count": 13,
     "metadata": {},
     "output_type": "execute_result"
    }
   ],
   "source": [
    "shoplisting_df.ravelry_retailer.value_counts()"
   ]
  },
  {
   "cell_type": "code",
   "execution_count": 15,
   "metadata": {},
   "outputs": [],
   "source": [
    "# drop unneeded columns from shop listing df\n",
    "\n",
    "# will remember to ignore index when reading to csv in future\n",
    "shoplisting_df = shoplisting_df.drop(['Unnamed: 0'], 1)\n",
    "\n",
    "# one column with no non-null values\n",
    "shoplisting_df = shoplisting_df.drop(['distance'], 1)\n",
    "\n",
    "# a lot of nulls in two columns that won't impact on the analysis\n",
    "shoplisting_df = shoplisting_df.drop(['parking', 'free_wifi', 'seating', 'twitter_id'], 1)\n",
    "\n",
    "# unneeded information\n",
    "shoplisting_df = shoplisting_df.drop(['permalink', 'phone', 'url', 'wheelchair_access', 'facebook_page',\n",
    "                                      'closed'], 1)"
   ]
  },
  {
   "cell_type": "code",
   "execution_count": 20,
   "metadata": {
    "collapsed": true
   },
   "outputs": [
    {
     "data": {
      "text/html": [
       "<div>\n",
       "<style scoped>\n",
       "    .dataframe tbody tr th:only-of-type {\n",
       "        vertical-align: middle;\n",
       "    }\n",
       "\n",
       "    .dataframe tbody tr th {\n",
       "        vertical-align: top;\n",
       "    }\n",
       "\n",
       "    .dataframe thead th {\n",
       "        text-align: right;\n",
       "    }\n",
       "</style>\n",
       "<table border=\"1\" class=\"dataframe\">\n",
       "  <thead>\n",
       "    <tr style=\"text-align: right;\">\n",
       "      <th></th>\n",
       "      <th>address</th>\n",
       "      <th>city</th>\n",
       "      <th>id</th>\n",
       "      <th>latitude</th>\n",
       "      <th>location</th>\n",
       "      <th>longitude</th>\n",
       "      <th>name</th>\n",
       "      <th>pos_online</th>\n",
       "      <th>ravelry_retailer</th>\n",
       "      <th>shop_email</th>\n",
       "      <th>zip</th>\n",
       "      <th>country</th>\n",
       "      <th>state</th>\n",
       "    </tr>\n",
       "  </thead>\n",
       "  <tbody>\n",
       "    <tr>\n",
       "      <th>0</th>\n",
       "      <td>5 Alabama Avenue (soon)</td>\n",
       "      <td>LaFayette</td>\n",
       "      <td>6459</td>\n",
       "      <td>NaN</td>\n",
       "      <td>5 Alabama Avenue (soon), LaFayette, Alabama</td>\n",
       "      <td>NaN</td>\n",
       "      <td>Courthouse Yanier</td>\n",
       "      <td>True</td>\n",
       "      <td>False</td>\n",
       "      <td>phootsy@courthouseyarnier.com</td>\n",
       "      <td>36862</td>\n",
       "      <td>{'id': 229, 'name': 'United States'}</td>\n",
       "      <td>{'id': 3596, 'name': 'Alabama'}</td>\n",
       "    </tr>\n",
       "    <tr>\n",
       "      <th>1</th>\n",
       "      <td>817B Regal Drive</td>\n",
       "      <td>Huntsville</td>\n",
       "      <td>9966</td>\n",
       "      <td>34.7091</td>\n",
       "      <td>817B Regal Drive, Huntsville, Alabama</td>\n",
       "      <td>-86.5875</td>\n",
       "      <td>Fiber Art Work</td>\n",
       "      <td>True</td>\n",
       "      <td>True</td>\n",
       "      <td>fiberartwork@gmail.com</td>\n",
       "      <td>35801</td>\n",
       "      <td>{'id': 229, 'name': 'United States'}</td>\n",
       "      <td>{'id': 3596, 'name': 'Alabama'}</td>\n",
       "    </tr>\n",
       "    <tr>\n",
       "      <th>2</th>\n",
       "      <td>25219 Hwy 195, P.O. Box 392 (for mailing)</td>\n",
       "      <td>Double Springs</td>\n",
       "      <td>11655</td>\n",
       "      <td>34.1465</td>\n",
       "      <td>25219 Hwy 195, P.O. Box 392 (for mailing), Dou...</td>\n",
       "      <td>-87.4022</td>\n",
       "      <td>Fine Yarns on Main</td>\n",
       "      <td>False</td>\n",
       "      <td>True</td>\n",
       "      <td>fineyarnsonmain@gmail.com</td>\n",
       "      <td>35553</td>\n",
       "      <td>{'id': 229, 'name': 'United States'}</td>\n",
       "      <td>{'id': 3596, 'name': 'Alabama'}</td>\n",
       "    </tr>\n",
       "    <tr>\n",
       "      <th>3</th>\n",
       "      <td>15314 Court Street</td>\n",
       "      <td>Moulton</td>\n",
       "      <td>8023</td>\n",
       "      <td>34.4825</td>\n",
       "      <td>15314 Court Street, Moulton, Alabama</td>\n",
       "      <td>-87.2766</td>\n",
       "      <td>Granny’s Quilt Shop</td>\n",
       "      <td>False</td>\n",
       "      <td>False</td>\n",
       "      <td>NaN</td>\n",
       "      <td>35650</td>\n",
       "      <td>{'id': 229, 'name': 'United States'}</td>\n",
       "      <td>{'id': 3596, 'name': 'Alabama'}</td>\n",
       "    </tr>\n",
       "    <tr>\n",
       "      <th>4</th>\n",
       "      <td>105 D Church Street</td>\n",
       "      <td>Madison</td>\n",
       "      <td>12262</td>\n",
       "      <td>34.6946</td>\n",
       "      <td>105 D Church Street, Madison, Alabama</td>\n",
       "      <td>-86.7487</td>\n",
       "      <td>Hook A Frog Fiber &amp; Fun</td>\n",
       "      <td>True</td>\n",
       "      <td>False</td>\n",
       "      <td>hookafrog@gmail.com</td>\n",
       "      <td>35758</td>\n",
       "      <td>{'id': 229, 'name': 'United States'}</td>\n",
       "      <td>{'id': 3596, 'name': 'Alabama'}</td>\n",
       "    </tr>\n",
       "  </tbody>\n",
       "</table>\n",
       "</div>"
      ],
      "text/plain": [
       "                                     address            city     id  latitude  \\\n",
       "0                    5 Alabama Avenue (soon)       LaFayette   6459       NaN   \n",
       "1                           817B Regal Drive      Huntsville   9966   34.7091   \n",
       "2  25219 Hwy 195, P.O. Box 392 (for mailing)  Double Springs  11655   34.1465   \n",
       "3                         15314 Court Street         Moulton   8023   34.4825   \n",
       "4                        105 D Church Street         Madison  12262   34.6946   \n",
       "\n",
       "                                            location  longitude  \\\n",
       "0        5 Alabama Avenue (soon), LaFayette, Alabama        NaN   \n",
       "1              817B Regal Drive, Huntsville, Alabama   -86.5875   \n",
       "2  25219 Hwy 195, P.O. Box 392 (for mailing), Dou...   -87.4022   \n",
       "3               15314 Court Street, Moulton, Alabama   -87.2766   \n",
       "4              105 D Church Street, Madison, Alabama   -86.7487   \n",
       "\n",
       "                      name  pos_online  ravelry_retailer  \\\n",
       "0        Courthouse Yanier        True             False   \n",
       "1           Fiber Art Work        True              True   \n",
       "2       Fine Yarns on Main       False              True   \n",
       "3      Granny’s Quilt Shop       False             False   \n",
       "4  Hook A Frog Fiber & Fun        True             False   \n",
       "\n",
       "                      shop_email    zip                               country  \\\n",
       "0  phootsy@courthouseyarnier.com  36862  {'id': 229, 'name': 'United States'}   \n",
       "1         fiberartwork@gmail.com  35801  {'id': 229, 'name': 'United States'}   \n",
       "2      fineyarnsonmain@gmail.com  35553  {'id': 229, 'name': 'United States'}   \n",
       "3                            NaN  35650  {'id': 229, 'name': 'United States'}   \n",
       "4            hookafrog@gmail.com  35758  {'id': 229, 'name': 'United States'}   \n",
       "\n",
       "                             state  \n",
       "0  {'id': 3596, 'name': 'Alabama'}  \n",
       "1  {'id': 3596, 'name': 'Alabama'}  \n",
       "2  {'id': 3596, 'name': 'Alabama'}  \n",
       "3  {'id': 3596, 'name': 'Alabama'}  \n",
       "4  {'id': 3596, 'name': 'Alabama'}  "
      ]
     },
     "execution_count": 20,
     "metadata": {},
     "output_type": "execute_result"
    }
   ],
   "source": [
    "shoplisting_df.head()"
   ]
  },
  {
   "cell_type": "code",
   "execution_count": 21,
   "metadata": {
    "collapsed": true
   },
   "outputs": [
    {
     "name": "stdout",
     "output_type": "stream",
     "text": [
      "<class 'pandas.core.frame.DataFrame'>\n",
      "RangeIndex: 2613 entries, 0 to 2612\n",
      "Data columns (total 13 columns):\n",
      " #   Column            Non-Null Count  Dtype  \n",
      "---  ------            --------------  -----  \n",
      " 0   address           2550 non-null   object \n",
      " 1   city              2610 non-null   object \n",
      " 2   id                2613 non-null   int64  \n",
      " 3   latitude          2519 non-null   float64\n",
      " 4   location          2610 non-null   object \n",
      " 5   longitude         2519 non-null   float64\n",
      " 6   name              2613 non-null   object \n",
      " 7   pos_online        2613 non-null   bool   \n",
      " 8   ravelry_retailer  2613 non-null   bool   \n",
      " 9   shop_email        1344 non-null   object \n",
      " 10  zip               2551 non-null   object \n",
      " 11  country           2613 non-null   object \n",
      " 12  state             2610 non-null   object \n",
      "dtypes: bool(2), float64(2), int64(1), object(8)\n",
      "memory usage: 229.8+ KB\n"
     ]
    }
   ],
   "source": [
    "shoplisting_df.info()"
   ]
  },
  {
   "cell_type": "code",
   "execution_count": 30,
   "metadata": {
    "collapsed": true
   },
   "outputs": [
    {
     "data": {
      "text/html": [
       "<div>\n",
       "<style scoped>\n",
       "    .dataframe tbody tr th:only-of-type {\n",
       "        vertical-align: middle;\n",
       "    }\n",
       "\n",
       "    .dataframe tbody tr th {\n",
       "        vertical-align: top;\n",
       "    }\n",
       "\n",
       "    .dataframe thead th {\n",
       "        text-align: right;\n",
       "    }\n",
       "</style>\n",
       "<table border=\"1\" class=\"dataframe\">\n",
       "  <thead>\n",
       "    <tr style=\"text-align: right;\">\n",
       "      <th></th>\n",
       "      <th>address</th>\n",
       "      <th>city</th>\n",
       "      <th>id</th>\n",
       "      <th>latitude</th>\n",
       "      <th>location</th>\n",
       "      <th>longitude</th>\n",
       "      <th>name</th>\n",
       "      <th>pos_online</th>\n",
       "      <th>ravelry_retailer</th>\n",
       "      <th>shop_email</th>\n",
       "      <th>zip</th>\n",
       "      <th>country</th>\n",
       "      <th>state</th>\n",
       "    </tr>\n",
       "  </thead>\n",
       "  <tbody>\n",
       "    <tr>\n",
       "      <th>664</th>\n",
       "      <td>56 Main Street</td>\n",
       "      <td>Ballymoney</td>\n",
       "      <td>8409</td>\n",
       "      <td>54.9593</td>\n",
       "      <td>56 Main Street, Ballymoney, Ballymoney, Northe...</td>\n",
       "      <td>-6.48476</td>\n",
       "      <td>A Twaddle</td>\n",
       "      <td>False</td>\n",
       "      <td>False</td>\n",
       "      <td>NaN</td>\n",
       "      <td>BT53 6AL</td>\n",
       "      <td>{'id': 162, 'name': 'Northern Ireland'}</td>\n",
       "      <td>{'id': 224, 'name': 'Ballymoney'}</td>\n",
       "    </tr>\n",
       "    <tr>\n",
       "      <th>670</th>\n",
       "      <td>39 Main Road</td>\n",
       "      <td>Cleeve, North Somerset</td>\n",
       "      <td>11623</td>\n",
       "      <td>51.3860</td>\n",
       "      <td>39 Main Road, Cleeve, North Somerset, North So...</td>\n",
       "      <td>-2.78580</td>\n",
       "      <td>AlterKnit Universe (Art Equals Happy)</td>\n",
       "      <td>False</td>\n",
       "      <td>True</td>\n",
       "      <td>AU@artequalshappy.co.uk</td>\n",
       "      <td>BS494NS</td>\n",
       "      <td>{'id': 228, 'name': 'United Kingdom'}</td>\n",
       "      <td>{'id': 3493, 'name': 'North Somerset'}</td>\n",
       "    </tr>\n",
       "    <tr>\n",
       "      <th>671</th>\n",
       "      <td>137-139 Main St</td>\n",
       "      <td>Fivemiletown</td>\n",
       "      <td>8475</td>\n",
       "      <td>54.3773</td>\n",
       "      <td>137-139 Main St, Fivemiletown, Dungannon, Nort...</td>\n",
       "      <td>-7.31790</td>\n",
       "      <td>Amanda’s Wool &amp; Craft Shop</td>\n",
       "      <td>False</td>\n",
       "      <td>False</td>\n",
       "      <td>NaN</td>\n",
       "      <td>BT75 0PG</td>\n",
       "      <td>{'id': 162, 'name': 'Northern Ireland'}</td>\n",
       "      <td>{'id': 220, 'name': 'Dungannon'}</td>\n",
       "    </tr>\n",
       "    <tr>\n",
       "      <th>672</th>\n",
       "      <td>324 Main Street, Unit B</td>\n",
       "      <td>Antigonish</td>\n",
       "      <td>14492</td>\n",
       "      <td>45.6226</td>\n",
       "      <td>324 Main Street, Unit B, Antigonish, Nova Scot...</td>\n",
       "      <td>-61.99370</td>\n",
       "      <td>AntigoKnits</td>\n",
       "      <td>True</td>\n",
       "      <td>False</td>\n",
       "      <td>knitwit@antigoknits.com</td>\n",
       "      <td>B2G 2C4</td>\n",
       "      <td>{'id': 39, 'name': 'Canada'}</td>\n",
       "      <td>{'id': 850, 'name': 'Nova Scotia'}</td>\n",
       "    </tr>\n",
       "    <tr>\n",
       "      <th>700</th>\n",
       "      <td>66 South Main Street</td>\n",
       "      <td>Wexford</td>\n",
       "      <td>8482</td>\n",
       "      <td>52.3374</td>\n",
       "      <td>66 South Main Street, Wexford, Wexford, Ireland</td>\n",
       "      <td>-6.46118</td>\n",
       "      <td>Colman Doyle</td>\n",
       "      <td>False</td>\n",
       "      <td>False</td>\n",
       "      <td>NaN</td>\n",
       "      <td>NaN</td>\n",
       "      <td>{'id': 105, 'name': 'Ireland'}</td>\n",
       "      <td>{'id': 1746, 'name': 'Wexford'}</td>\n",
       "    </tr>\n",
       "    <tr>\n",
       "      <th>...</th>\n",
       "      <td>...</td>\n",
       "      <td>...</td>\n",
       "      <td>...</td>\n",
       "      <td>...</td>\n",
       "      <td>...</td>\n",
       "      <td>...</td>\n",
       "      <td>...</td>\n",
       "      <td>...</td>\n",
       "      <td>...</td>\n",
       "      <td>...</td>\n",
       "      <td>...</td>\n",
       "      <td>...</td>\n",
       "      <td>...</td>\n",
       "    </tr>\n",
       "    <tr>\n",
       "      <th>1035</th>\n",
       "      <td>Landstraße 6</td>\n",
       "      <td>Wörth a.Main</td>\n",
       "      <td>14596</td>\n",
       "      <td>49.7974</td>\n",
       "      <td>Landstraße 6, Wörth a.Main, Bayern, Germany</td>\n",
       "      <td>9.15692</td>\n",
       "      <td>Wolle Straub</td>\n",
       "      <td>False</td>\n",
       "      <td>False</td>\n",
       "      <td>info@wolle-straub.de</td>\n",
       "      <td>63939</td>\n",
       "      <td>{'id': 84, 'name': 'Germany'}</td>\n",
       "      <td>{'id': 1402, 'name': 'Bayern'}</td>\n",
       "    </tr>\n",
       "    <tr>\n",
       "      <th>1482</th>\n",
       "      <td>126 - 134 Station Road</td>\n",
       "      <td>New Milton</td>\n",
       "      <td>8169</td>\n",
       "      <td>50.7518</td>\n",
       "      <td>126 - 134 Station Road, New Milton, Hampshire,...</td>\n",
       "      <td>-1.65442</td>\n",
       "      <td>Bradbeers</td>\n",
       "      <td>False</td>\n",
       "      <td>False</td>\n",
       "      <td>NaN</td>\n",
       "      <td>BH25 6LW</td>\n",
       "      <td>{'id': 228, 'name': 'United Kingdom'}</td>\n",
       "      <td>{'id': 3537, 'name': 'Hampshire'}</td>\n",
       "    </tr>\n",
       "    <tr>\n",
       "      <th>1591</th>\n",
       "      <td>3500 Route 635</td>\n",
       "      <td>Harvey, York County</td>\n",
       "      <td>624</td>\n",
       "      <td>45.5917</td>\n",
       "      <td>3500 Route 635, Harvey, York County, New Bruns...</td>\n",
       "      <td>-67.30530</td>\n",
       "      <td>Briggs &amp; Little Outlet Shop</td>\n",
       "      <td>False</td>\n",
       "      <td>False</td>\n",
       "      <td>NaN</td>\n",
       "      <td>E6K 1J8</td>\n",
       "      <td>{'id': 39, 'name': 'Canada'}</td>\n",
       "      <td>{'id': 855, 'name': 'New Brunswick'}</td>\n",
       "    </tr>\n",
       "    <tr>\n",
       "      <th>1674</th>\n",
       "      <td>50 York St</td>\n",
       "      <td>Sydney</td>\n",
       "      <td>527</td>\n",
       "      <td>-33.8697</td>\n",
       "      <td>50 York St, Sydney, New South Wales, Australia</td>\n",
       "      <td>151.20600</td>\n",
       "      <td>Morris and Sons</td>\n",
       "      <td>True</td>\n",
       "      <td>True</td>\n",
       "      <td>NaN</td>\n",
       "      <td>2000</td>\n",
       "      <td>{'id': 13, 'name': 'Australia'}</td>\n",
       "      <td>{'id': 435, 'name': 'New South Wales'}</td>\n",
       "    </tr>\n",
       "    <tr>\n",
       "      <th>2339</th>\n",
       "      <td>9 Serina Avenue</td>\n",
       "      <td>Castle Hill</td>\n",
       "      <td>2287</td>\n",
       "      <td>-33.7422</td>\n",
       "      <td>9 Serina Avenue, Castle Hill, New South Wales,...</td>\n",
       "      <td>151.00400</td>\n",
       "      <td>Virginia Farm Wool Works</td>\n",
       "      <td>False</td>\n",
       "      <td>False</td>\n",
       "      <td>info@virginiafarmwoolworks.com.au</td>\n",
       "      <td>2154</td>\n",
       "      <td>{'id': 13, 'name': 'Australia'}</td>\n",
       "      <td>{'id': 435, 'name': 'New South Wales'}</td>\n",
       "    </tr>\n",
       "  </tbody>\n",
       "</table>\n",
       "<p>78 rows × 13 columns</p>\n",
       "</div>"
      ],
      "text/plain": [
       "                      address                    city     id  latitude  \\\n",
       "664            56 Main Street              Ballymoney   8409   54.9593   \n",
       "670              39 Main Road  Cleeve, North Somerset  11623   51.3860   \n",
       "671           137-139 Main St            Fivemiletown   8475   54.3773   \n",
       "672   324 Main Street, Unit B              Antigonish  14492   45.6226   \n",
       "700      66 South Main Street                 Wexford   8482   52.3374   \n",
       "...                       ...                     ...    ...       ...   \n",
       "1035             Landstraße 6            Wörth a.Main  14596   49.7974   \n",
       "1482   126 - 134 Station Road              New Milton   8169   50.7518   \n",
       "1591           3500 Route 635     Harvey, York County    624   45.5917   \n",
       "1674               50 York St                  Sydney    527  -33.8697   \n",
       "2339          9 Serina Avenue             Castle Hill   2287  -33.7422   \n",
       "\n",
       "                                               location  longitude  \\\n",
       "664   56 Main Street, Ballymoney, Ballymoney, Northe...   -6.48476   \n",
       "670   39 Main Road, Cleeve, North Somerset, North So...   -2.78580   \n",
       "671   137-139 Main St, Fivemiletown, Dungannon, Nort...   -7.31790   \n",
       "672   324 Main Street, Unit B, Antigonish, Nova Scot...  -61.99370   \n",
       "700     66 South Main Street, Wexford, Wexford, Ireland   -6.46118   \n",
       "...                                                 ...        ...   \n",
       "1035        Landstraße 6, Wörth a.Main, Bayern, Germany    9.15692   \n",
       "1482  126 - 134 Station Road, New Milton, Hampshire,...   -1.65442   \n",
       "1591  3500 Route 635, Harvey, York County, New Bruns...  -67.30530   \n",
       "1674     50 York St, Sydney, New South Wales, Australia  151.20600   \n",
       "2339  9 Serina Avenue, Castle Hill, New South Wales,...  151.00400   \n",
       "\n",
       "                                       name  pos_online  ravelry_retailer  \\\n",
       "664                               A Twaddle       False             False   \n",
       "670   AlterKnit Universe (Art Equals Happy)       False              True   \n",
       "671              Amanda’s Wool & Craft Shop       False             False   \n",
       "672                             AntigoKnits        True             False   \n",
       "700                            Colman Doyle       False             False   \n",
       "...                                     ...         ...               ...   \n",
       "1035                           Wolle Straub       False             False   \n",
       "1482                              Bradbeers       False             False   \n",
       "1591            Briggs & Little Outlet Shop       False             False   \n",
       "1674                        Morris and Sons        True              True   \n",
       "2339               Virginia Farm Wool Works       False             False   \n",
       "\n",
       "                             shop_email       zip  \\\n",
       "664                                 NaN  BT53 6AL   \n",
       "670             AU@artequalshappy.co.uk   BS494NS   \n",
       "671                                 NaN  BT75 0PG   \n",
       "672             knitwit@antigoknits.com   B2G 2C4   \n",
       "700                                 NaN       NaN   \n",
       "...                                 ...       ...   \n",
       "1035               info@wolle-straub.de    63939    \n",
       "1482                                NaN  BH25 6LW   \n",
       "1591                                NaN   E6K 1J8   \n",
       "1674                                NaN      2000   \n",
       "2339  info@virginiafarmwoolworks.com.au      2154   \n",
       "\n",
       "                                      country  \\\n",
       "664   {'id': 162, 'name': 'Northern Ireland'}   \n",
       "670     {'id': 228, 'name': 'United Kingdom'}   \n",
       "671   {'id': 162, 'name': 'Northern Ireland'}   \n",
       "672              {'id': 39, 'name': 'Canada'}   \n",
       "700            {'id': 105, 'name': 'Ireland'}   \n",
       "...                                       ...   \n",
       "1035            {'id': 84, 'name': 'Germany'}   \n",
       "1482    {'id': 228, 'name': 'United Kingdom'}   \n",
       "1591             {'id': 39, 'name': 'Canada'}   \n",
       "1674          {'id': 13, 'name': 'Australia'}   \n",
       "2339          {'id': 13, 'name': 'Australia'}   \n",
       "\n",
       "                                       state  \n",
       "664        {'id': 224, 'name': 'Ballymoney'}  \n",
       "670   {'id': 3493, 'name': 'North Somerset'}  \n",
       "671         {'id': 220, 'name': 'Dungannon'}  \n",
       "672       {'id': 850, 'name': 'Nova Scotia'}  \n",
       "700          {'id': 1746, 'name': 'Wexford'}  \n",
       "...                                      ...  \n",
       "1035          {'id': 1402, 'name': 'Bayern'}  \n",
       "1482       {'id': 3537, 'name': 'Hampshire'}  \n",
       "1591    {'id': 855, 'name': 'New Brunswick'}  \n",
       "1674  {'id': 435, 'name': 'New South Wales'}  \n",
       "2339  {'id': 435, 'name': 'New South Wales'}  \n",
       "\n",
       "[78 rows x 13 columns]"
      ]
     },
     "execution_count": 30,
     "metadata": {},
     "output_type": "execute_result"
    }
   ],
   "source": [
    "# examine shop listings with country listed other than US\n",
    "othercountry_list = [\"{'id': 39, 'name': 'Canada'}\", \"{'id': 228, 'name': 'United Kingdom'}\", \n",
    "                     \"{'id': 13, 'name': 'Australia'}\", \"{'id': 105, 'name': 'Ireland'}\", \n",
    "                     \"{'id': 199, 'name': 'South Africa'}\", \"{'id': 156, 'name': 'New Zealand'}\", \n",
    "                     \"{'id': 162, 'name': 'Northern Ireland'}\", \"{'id': 84, 'name': 'Germany'}\", \n",
    "                     \"{'id': 103, 'name': 'India'}\", \"{'id': 88, 'name': 'Greece'}\"]\n",
    "\n",
    "shoplisting_df.loc[shoplisting_df.country.isin(othercountry_list)]"
   ]
  },
  {
   "cell_type": "code",
   "execution_count": 32,
   "metadata": {},
   "outputs": [],
   "source": [
    "drop_index = shoplisting_df[shoplisting_df.country.isin(othercountry_list)].index\n",
    "shoplisting_df = shoplisting_df.drop(drop_index).reset_index(drop = True)"
   ]
  },
  {
   "cell_type": "code",
   "execution_count": 33,
   "metadata": {},
   "outputs": [
    {
     "data": {
      "text/html": [
       "<div>\n",
       "<style scoped>\n",
       "    .dataframe tbody tr th:only-of-type {\n",
       "        vertical-align: middle;\n",
       "    }\n",
       "\n",
       "    .dataframe tbody tr th {\n",
       "        vertical-align: top;\n",
       "    }\n",
       "\n",
       "    .dataframe thead th {\n",
       "        text-align: right;\n",
       "    }\n",
       "</style>\n",
       "<table border=\"1\" class=\"dataframe\">\n",
       "  <thead>\n",
       "    <tr style=\"text-align: right;\">\n",
       "      <th></th>\n",
       "      <th>address</th>\n",
       "      <th>city</th>\n",
       "      <th>id</th>\n",
       "      <th>latitude</th>\n",
       "      <th>location</th>\n",
       "      <th>longitude</th>\n",
       "      <th>name</th>\n",
       "      <th>pos_online</th>\n",
       "      <th>ravelry_retailer</th>\n",
       "      <th>shop_email</th>\n",
       "      <th>zip</th>\n",
       "      <th>country</th>\n",
       "      <th>state</th>\n",
       "    </tr>\n",
       "  </thead>\n",
       "  <tbody>\n",
       "  </tbody>\n",
       "</table>\n",
       "</div>"
      ],
      "text/plain": [
       "Empty DataFrame\n",
       "Columns: [address, city, id, latitude, location, longitude, name, pos_online, ravelry_retailer, shop_email, zip, country, state]\n",
       "Index: []"
      ]
     },
     "execution_count": 33,
     "metadata": {},
     "output_type": "execute_result"
    }
   ],
   "source": [
    "shoplisting_df.loc[shoplisting_df.country.isin(othercountry_list)]"
   ]
  },
  {
   "cell_type": "code",
   "execution_count": 36,
   "metadata": {
    "collapsed": true
   },
   "outputs": [
    {
     "name": "stdout",
     "output_type": "stream",
     "text": [
      "<class 'pandas.core.frame.DataFrame'>\n",
      "RangeIndex: 2535 entries, 0 to 2534\n",
      "Data columns (total 13 columns):\n",
      " #   Column            Non-Null Count  Dtype  \n",
      "---  ------            --------------  -----  \n",
      " 0   address           2472 non-null   object \n",
      " 1   city              2532 non-null   object \n",
      " 2   id                2535 non-null   int64  \n",
      " 3   latitude          2446 non-null   float64\n",
      " 4   location          2532 non-null   object \n",
      " 5   longitude         2446 non-null   float64\n",
      " 6   name              2535 non-null   object \n",
      " 7   pos_online        2535 non-null   bool   \n",
      " 8   ravelry_retailer  2535 non-null   bool   \n",
      " 9   shop_email        1313 non-null   object \n",
      " 10  zip               2483 non-null   object \n",
      " 11  country           2535 non-null   object \n",
      " 12  state             2533 non-null   object \n",
      "dtypes: bool(2), float64(2), int64(1), object(8)\n",
      "memory usage: 222.9+ KB\n"
     ]
    }
   ],
   "source": [
    "shoplisting_df.info()"
   ]
  },
  {
   "cell_type": "code",
   "execution_count": 38,
   "metadata": {},
   "outputs": [],
   "source": [
    "# save cleaned shops dataframe to csv\n",
    "\n",
    "shoplisting_df.to_csv('../data/df_shop_clean.csv', index = False)"
   ]
  },
  {
   "cell_type": "markdown",
   "metadata": {},
   "source": [
    "# Shop details dataframe\n",
    "\n",
    "Having looked more closely at this dataset, there are no additional details that need to be added to the other shop df."
   ]
  }
 ],
 "metadata": {
  "kernelspec": {
   "display_name": "Python 3",
   "language": "python",
   "name": "python3"
  },
  "language_info": {
   "codemirror_mode": {
    "name": "ipython",
    "version": 3
   },
   "file_extension": ".py",
   "mimetype": "text/x-python",
   "name": "python",
   "nbconvert_exporter": "python",
   "pygments_lexer": "ipython3",
   "version": "3.7.6"
  }
 },
 "nbformat": 4,
 "nbformat_minor": 4
}
