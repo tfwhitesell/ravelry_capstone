{
 "cells": [
  {
   "cell_type": "markdown",
   "metadata": {},
   "source": [
    "# Mapping current yarn shops vs population"
   ]
  },
  {
   "cell_type": "code",
   "execution_count": null,
   "metadata": {},
   "outputs": [],
   "source": [
    "from shapely.geometry import Point\n",
    "import pandas as pd\n",
    "import geopandas as gpd\n",
    "import matplotlib.pyplot as plt\n",
    "import folium\n",
    "from folium.plugins import MarkerCluster\n",
    "from folium.plugins import FastMarkerCluster\n",
    "import numpy as np\n"
   ]
  },
  {
   "cell_type": "markdown",
   "metadata": {},
   "source": [
    "# County mapping"
   ]
  },
  {
   "cell_type": "code",
   "execution_count": null,
   "metadata": {},
   "outputs": [],
   "source": [
    "# Read in county shapefile\n",
    "\n",
    "counties = gpd.read_file('../data/tl_2017_us_county/tl_2017_us_county.shp')\n",
    "print(counties.crs)\n",
    "counties.head(2)"
   ]
  },
  {
   "cell_type": "code",
   "execution_count": null,
   "metadata": {},
   "outputs": [],
   "source": [
    "counties.info()"
   ]
  },
  {
   "cell_type": "code",
   "execution_count": null,
   "metadata": {},
   "outputs": [],
   "source": [
    "#take FIPS for territories and drop based on STATEFP column\n",
    "territories_list = ['60', '66', '69', '72', '78']\n",
    "\n",
    "counties = counties[~counties['STATEFP'].isin(territories_list)]\n",
    "\n",
    "fig, ax = plt.subplots(figsize = (20, 20))\n",
    "\n",
    "counties.plot(column = 'COUNTYNS', ax = ax)\n",
    "\n",
    "# to tighten the map\n",
    "plt.xlim(-175, -65);\n"
   ]
  },
  {
   "cell_type": "code",
   "execution_count": null,
   "metadata": {},
   "outputs": [],
   "source": [
    "counties = counties[['STATEFP', 'COUNTYFP', 'COUNTYNS', 'GEOID', 'NAME', 'geometry']]\n",
    "counties.head()"
   ]
  },
  {
   "cell_type": "markdown",
   "metadata": {},
   "source": [
    "# Shop info"
   ]
  },
  {
   "cell_type": "code",
   "execution_count": null,
   "metadata": {},
   "outputs": [],
   "source": [
    "shops_df = pd.read_csv('../data/df_shops_clean2.csv')\n",
    "shops_df.head(2)\n"
   ]
  },
  {
   "cell_type": "code",
   "execution_count": null,
   "metadata": {},
   "outputs": [],
   "source": [
    "# create geometry column\n",
    "\n",
    "shops_df['geometry'] = shops_df.apply(lambda x: Point((float(x.longitude),\n",
    "                                                       float(x.latitude))),\n",
    "                                      axis=1)\n",
    "shops_df.head(3)"
   ]
  },
  {
   "cell_type": "code",
   "execution_count": null,
   "metadata": {},
   "outputs": [],
   "source": [
    "# create geodataframe from shops\n",
    "\n",
    "shop_geo = gpd.GeoDataFrame(shops_df,\n",
    "                            crs = counties.crs,\n",
    "                            geometry = shops_df['geometry'])\n"
   ]
  },
  {
   "cell_type": "code",
   "execution_count": null,
   "metadata": {},
   "outputs": [],
   "source": [
    "type(shop_geo)"
   ]
  },
  {
   "cell_type": "code",
   "execution_count": null,
   "metadata": {
    "scrolled": true
   },
   "outputs": [],
   "source": [
    "# combine with spatial join\n",
    "\n",
    "shops_by_county = gpd.sjoin(shop_geo, counties, op = 'within')\n",
    "shops_by_county.head()"
   ]
  },
  {
   "cell_type": "code",
   "execution_count": null,
   "metadata": {},
   "outputs": [],
   "source": [
    "shops_by_county.GEOID.value_counts()\n",
    "# go back to cleaning and check for duplicates"
   ]
  },
  {
   "cell_type": "code",
   "execution_count": null,
   "metadata": {},
   "outputs": [],
   "source": [
    "shops_by_county.info()"
   ]
  },
  {
   "cell_type": "code",
   "execution_count": null,
   "metadata": {},
   "outputs": [],
   "source": [
    "# LA - 36 listings\n",
    "shops_la = shops_by_county.loc[shops_by_county.GEOID == '06037']"
   ]
  },
  {
   "cell_type": "code",
   "execution_count": null,
   "metadata": {},
   "outputs": [],
   "source": [
    "# Seattle - 29 listings\n",
    "shops_seattle = shops_by_county.loc[shops_by_county.GEOID == '53033']"
   ]
  },
  {
   "cell_type": "code",
   "execution_count": null,
   "metadata": {},
   "outputs": [],
   "source": [
    "shops_middlesex = shops_by_county.loc[shops_by_county.GEOID == '25017']"
   ]
  },
  {
   "cell_type": "code",
   "execution_count": null,
   "metadata": {},
   "outputs": [],
   "source": [
    "# defining variables for map\n",
    "\n",
    "polygon_county = counties.loc[counties['GEOID'] == '06037']\n",
    "center = polygon_county.geometry.centroid\n",
    "area_center = [center.y, center.x]\n",
    "shops_county = shops_la"
   ]
  },
  {
   "cell_type": "code",
   "execution_count": null,
   "metadata": {},
   "outputs": [],
   "source": [
    "# mapping shops with folium - LA as example\n",
    "\n",
    "# create map centered on area\n",
    "map_county = folium.Map(location = area_center, zoom_start = 9)\n",
    "\n",
    "# add county polygon to map\n",
    "folium.GeoJson(polygon_county).add_to(map_county)\n",
    "\n",
    "# iterate through shops to place points on map, popup marker for shop name\n",
    "for row_index, row_values in shops_county.iterrows():\n",
    "    loc = [row_values['latitude'], row_values['longitude']]\n",
    "    pop = str(row_values['name'])\n",
    "    marker = folium.Marker(\n",
    "        location = loc, \n",
    "        popup = pop) \n",
    "    \n",
    "    marker.add_to(map_county)\n",
    "map_county.save('../maps/map_la.html')\n",
    "\n",
    "map_county"
   ]
  },
  {
   "cell_type": "code",
   "execution_count": null,
   "metadata": {},
   "outputs": [],
   "source": [
    "# mapping shops with folium - King county (Seattle)\n",
    "\n",
    "# defining variables for map\n",
    "polygon_county = counties.loc[counties['GEOID'] == '53033']\n",
    "center = polygon_county.geometry.centroid\n",
    "area_center = [center.y, center.x]\n",
    "shops_county = shops_seattle\n",
    "\n",
    "# create map centered on area\n",
    "map_county = folium.Map(location = area_center, zoom_start = 9)\n",
    "\n",
    "# add county polygon to map\n",
    "folium.GeoJson(polygon_county).add_to(map_county)\n",
    "\n",
    "# iterate through shops to place points on map, popup marker for shop name\n",
    "for row_index, row_values in shops_county.iterrows():\n",
    "    loc = [row_values['latitude'], row_values['longitude']]\n",
    "    pop = str(row_values['name'])\n",
    "    marker = folium.Marker(\n",
    "        location = loc, \n",
    "        popup = pop) \n",
    "    \n",
    "    marker.add_to(map_county)\n",
    "map_county.save('../maps/map_seattle.html')\n",
    "\n",
    "map_county"
   ]
  },
  {
   "cell_type": "code",
   "execution_count": null,
   "metadata": {},
   "outputs": [],
   "source": [
    "# mapping shops with folium - Middlesex county (part of Boston metro area)\n",
    "\n",
    "# defining variables for map\n",
    "polygon_county = counties.loc[counties['GEOID'] == '25017']\n",
    "center = polygon_county.geometry.centroid\n",
    "area_center = [center.y, center.x]\n",
    "shops_county = shops_middlesex\n",
    "\n",
    "# create map centered on area\n",
    "map_county = folium.Map(location = area_center, zoom_start = 10)\n",
    "\n",
    "# add county polygon to map\n",
    "folium.GeoJson(polygon_county).add_to(map_county)\n",
    "\n",
    "# iterate through shops to place points on map, popup marker for shop name\n",
    "for row_index, row_values in shops_county.iterrows():\n",
    "    loc = [row_values['latitude'], row_values['longitude']]\n",
    "    pop = str(row_values['name'])\n",
    "    marker = folium.Marker(\n",
    "        location = loc, \n",
    "        popup = pop) \n",
    "    \n",
    "    marker.add_to(map_county)\n",
    "map_county.save('../maps/map_middlesex.html')\n",
    "\n",
    "map_county"
   ]
  },
  {
   "cell_type": "code",
   "execution_count": null,
   "metadata": {},
   "outputs": [],
   "source": [
    "shops_nashville = shops_by_county.loc[shops_by_county.NAME == 'Davidson']"
   ]
  },
  {
   "cell_type": "code",
   "execution_count": null,
   "metadata": {},
   "outputs": [],
   "source": [
    "shops_nashville"
   ]
  },
  {
   "cell_type": "code",
   "execution_count": null,
   "metadata": {},
   "outputs": [],
   "source": [
    "# mapping shops with folium - Davidson County (Nashville)\n",
    "\n",
    "# defining variables for map\n",
    "polygon_county = counties.loc[counties['GEOID'] == '47037']\n",
    "center = polygon_county.geometry.centroid\n",
    "area_center = [center.y, center.x]\n",
    "shops_county = shops_nashville\n",
    "\n",
    "# create map centered on area\n",
    "map_county = folium.Map(location = area_center, zoom_start = 10)\n",
    "\n",
    "# add county polygon to map\n",
    "folium.GeoJson(polygon_county).add_to(map_county)\n",
    "\n",
    "# iterate through shops to place points on map, popup marker for shop name\n",
    "for row_index, row_values in shops_county.iterrows():\n",
    "    loc = [row_values['latitude'], row_values['longitude']]\n",
    "    pop = str(row_values['name'])\n",
    "    marker = folium.Marker(\n",
    "        location = loc, \n",
    "        popup = pop) \n",
    "    \n",
    "    marker.add_to(map_county)\n",
    "map_county.save('../maps/map_nashville.html')\n",
    "\n",
    "map_county"
   ]
  },
  {
   "cell_type": "code",
   "execution_count": null,
   "metadata": {},
   "outputs": [],
   "source": [
    "# this could be useful to display information at country level - markers would be clustered showing how many shops\n",
    "# in a county, then can have county-level maps of the highest concentration ready to go\n",
    "\n",
    "# mapping shops with folium\n",
    "# using cluster markers\n",
    "\n",
    "# defining variables for map\n",
    "area_center = ['39.50', '-98.35']\n",
    "shops_country = shops_by_county\n",
    "\n",
    "# create map centered on area\n",
    "clustermap_country = folium.Map(location = area_center, zoom_start = 4)\n",
    "\n",
    "#create a marker cluster\n",
    "marker_cluster = MarkerCluster().add_to(clustermap_country)\n",
    "\n",
    "# add county polygon to map\n",
    "#folium.GeoJson(polygon_county).add_to(clustermap_county)\n",
    "\n",
    "# iterate through shops to place points on map, popup marker for shop name\n",
    "for row_index, row_values in shops_by_county.iterrows():\n",
    "    loc = [row_values['latitude'], row_values['longitude']]\n",
    "    pop = str(row_values[['name', 'address', 'city']])\n",
    "    marker = folium.Marker(\n",
    "        location = loc, \n",
    "        popup = pop) \n",
    "    \n",
    "    marker.add_to(marker_cluster)\n",
    "\n",
    "clustermap_country.save('../maps/mapcountry.html')\n",
    "\n",
    "clustermap_country"
   ]
  },
  {
   "cell_type": "code",
   "execution_count": null,
   "metadata": {},
   "outputs": [],
   "source": [
    "# save shops_by_county dataframe to csv\n",
    "\n",
    "shops_by_county.to_csv('../data/df_shops_by_county.csv', index = False)"
   ]
  },
  {
   "cell_type": "code",
   "execution_count": null,
   "metadata": {},
   "outputs": [],
   "source": []
  }
 ],
 "metadata": {
  "kernelspec": {
   "display_name": "Python 3",
   "language": "python",
   "name": "python3"
  },
  "language_info": {
   "codemirror_mode": {
    "name": "ipython",
    "version": 3
   },
   "file_extension": ".py",
   "mimetype": "text/x-python",
   "name": "python",
   "nbconvert_exporter": "python",
   "pygments_lexer": "ipython3",
   "version": "3.7.6"
  }
 },
 "nbformat": 4,
 "nbformat_minor": 4
}
