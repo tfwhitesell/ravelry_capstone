{
 "cells": [
  {
   "cell_type": "markdown",
   "metadata": {},
   "source": [
    "# Where are best locations for opening a new independent yarn shop?"
   ]
  },
  {
   "cell_type": "code",
   "execution_count": null,
   "metadata": {},
   "outputs": [],
   "source": [
    "import pandas as pd\n",
    "import matplotlib.pyplot as plt\n",
    "import seaborn as sns\n",
    "import numpy as np\n",
    "import folium\n",
    "import geopandas as gpd\n",
    "\n",
    "%matplotlib inline"
   ]
  },
  {
   "cell_type": "code",
   "execution_count": null,
   "metadata": {},
   "outputs": [],
   "source": [
    "# read in shops_by_county dataframe\n",
    "# sames solution as below with population csv to keep leading 0 in GEOID, state, and county and columns\n",
    "shops_df = pd.read_csv('../data/df_shops_by_county.csv', dtype = {'STATEFP' : str,\n",
    "                                                                  'COUNTYFP' : str,\n",
    "                                                                  'GEOID' : str})\n",
    "shops_df.head(2)\n"
   ]
  },
  {
   "cell_type": "code",
   "execution_count": null,
   "metadata": {},
   "outputs": [],
   "source": [
    "shop_county_count_df = shops_df[['state', 'STATEFP', 'COUNTYFP', 'COUNTYNS', 'GEOID', 'NAME']].copy()\n",
    "shop_county_count_df.head(2)"
   ]
  },
  {
   "cell_type": "code",
   "execution_count": null,
   "metadata": {},
   "outputs": [],
   "source": [
    "shop_count = shop_county_count_df.groupby('GEOID').count()\n",
    "shop_count"
   ]
  },
  {
   "cell_type": "code",
   "execution_count": null,
   "metadata": {},
   "outputs": [],
   "source": [
    "shop_county_count_df.drop_duplicates()"
   ]
  },
  {
   "cell_type": "code",
   "execution_count": null,
   "metadata": {},
   "outputs": [],
   "source": [
    "shop_count = shop_count.drop(['state', 'STATEFP', 'COUNTYFP', 'COUNTYNS'], 1)\n",
    "shop_count"
   ]
  },
  {
   "cell_type": "code",
   "execution_count": null,
   "metadata": {},
   "outputs": [],
   "source": [
    "shop_count = shop_count.reset_index()"
   ]
  },
  {
   "cell_type": "code",
   "execution_count": null,
   "metadata": {},
   "outputs": [],
   "source": [
    "shop_count = shop_count.rename(columns = {'NAME' : 'count'})\n",
    "shop_count"
   ]
  },
  {
   "cell_type": "code",
   "execution_count": null,
   "metadata": {},
   "outputs": [],
   "source": [
    "shop_count.loc[shop_count['GEOID'] == '01089']"
   ]
  },
  {
   "cell_type": "code",
   "execution_count": null,
   "metadata": {
    "scrolled": true
   },
   "outputs": [],
   "source": [
    "shop_county_count_df = shop_county_count_df.merge(shop_count, left_on = 'GEOID', right_on = 'GEOID').drop_duplicates()\n",
    "shop_county_count_df"
   ]
  },
  {
   "cell_type": "code",
   "execution_count": null,
   "metadata": {},
   "outputs": [],
   "source": [
    "# read in county population dataframe\n",
    "# original file was in a different encoding, changed because I hoped using the standard encoding would \n",
    "# prevent leading 0 from being dropped in county column\n",
    "# I need to concatenate those columns down the line to merge with shapefile (matches GEOID)\n",
    "# easier to change read in to keep leading 0\n",
    "\n",
    "pd.set_option('display.max_columns', 60)\n",
    "population_df = pd.read_csv('../data/us_popest_2019_utf8.csv', dtype = {'STATE' : str,\n",
    "                                                                        'COUNTY' : str})\n",
    "population_df.head(2)\n"
   ]
  },
  {
   "cell_type": "code",
   "execution_count": null,
   "metadata": {},
   "outputs": [],
   "source": [
    "population_df = population_df[['SUMLEV', 'REGION', 'DIVISION', 'STATE', 'COUNTY', 'STNAME',\n",
    "                               'CTYNAME', 'POPESTIMATE2019']].copy()\n",
    "population_df.head(2)"
   ]
  },
  {
   "cell_type": "code",
   "execution_count": null,
   "metadata": {},
   "outputs": [],
   "source": [
    "population_df.loc[population_df['COUNTY'] == '000']"
   ]
  },
  {
   "cell_type": "code",
   "execution_count": null,
   "metadata": {
    "scrolled": true
   },
   "outputs": [],
   "source": [
    "# filter out state population rows (0 on the COUNTY column)\n",
    "\n",
    "state_pop = population_df.loc[population_df['COUNTY'] == '000'].index\n",
    "pop_county_df = population_df.drop(state_pop)\n",
    "pop_county_df.head()"
   ]
  },
  {
   "cell_type": "code",
   "execution_count": null,
   "metadata": {
    "scrolled": false
   },
   "outputs": [],
   "source": [
    "pop_county_df.info()"
   ]
  },
  {
   "cell_type": "code",
   "execution_count": null,
   "metadata": {
    "scrolled": false
   },
   "outputs": [],
   "source": [
    "pop_county_df.loc[pop_county_df['STNAME'] == 'Alabama']"
   ]
  },
  {
   "cell_type": "code",
   "execution_count": null,
   "metadata": {},
   "outputs": [],
   "source": [
    "popcounty_merge_df = pd.merge(pop_county_df, shop_county_count_df,\n",
    "                              how = 'left', \n",
    "                              left_on = ['STATE', 'COUNTY', 'STNAME'],\n",
    "                              right_on = ['STATEFP', 'COUNTYFP', 'state'])\n",
    "popcounty_merge_df.head()"
   ]
  },
  {
   "cell_type": "code",
   "execution_count": null,
   "metadata": {},
   "outputs": [],
   "source": [
    "popcounty_merge_df.info()"
   ]
  },
  {
   "cell_type": "code",
   "execution_count": null,
   "metadata": {},
   "outputs": [],
   "source": [
    "# population per current shop\n",
    "popcounty_merge_df['shop_pop'] = popcounty_merge_df['POPESTIMATE2019']/popcounty_merge_df['count']"
   ]
  },
  {
   "cell_type": "code",
   "execution_count": null,
   "metadata": {},
   "outputs": [],
   "source": [
    "# determine median, mean of population per current shop\n",
    "popcounty_merge_df['shop_pop'].describe()\n"
   ]
  },
  {
   "cell_type": "markdown",
   "metadata": {},
   "source": [
    "shop population\n",
    "- count    935\n",
    "- mean     114110\n",
    "- std      168890\n",
    "- min      591\n",
    "- 25%      25191\n",
    "- 50%      54366\n",
    "- 75%      134407\n",
    "- max      2,253,858\n",
    "\n",
    "Median seems a reasonable measure of population likely to support a shop, although it is definitely not the whole picture. For my analysis this is a good place to start."
   ]
  },
  {
   "cell_type": "code",
   "execution_count": null,
   "metadata": {},
   "outputs": [],
   "source": [
    "# replace null in shop_pop with current population\n",
    "popcounty_merge_df['shop_pop'] = popcounty_merge_df['shop_pop'].fillna(popcounty_merge_df.POPESTIMATE2019)"
   ]
  },
  {
   "cell_type": "code",
   "execution_count": null,
   "metadata": {},
   "outputs": [],
   "source": [
    "# population available to support another shop, assuming median population required\n",
    "popcounty_merge_df['avail_pop'] = popcounty_merge_df['POPESTIMATE2019']-(popcounty_merge_df['count']*54366)"
   ]
  },
  {
   "cell_type": "code",
   "execution_count": null,
   "metadata": {},
   "outputs": [],
   "source": [
    "# replace null in avail_pop with current population\n",
    "popcounty_merge_df['avail_pop'] = popcounty_merge_df['avail_pop'].fillna(popcounty_merge_df.POPESTIMATE2019)"
   ]
  },
  {
   "cell_type": "code",
   "execution_count": null,
   "metadata": {},
   "outputs": [],
   "source": [
    "# number of shops available population could support assuming the median population required\n",
    "popcounty_merge_df['shop_potential'] = popcounty_merge_df['avail_pop']/54366"
   ]
  },
  {
   "cell_type": "code",
   "execution_count": null,
   "metadata": {},
   "outputs": [],
   "source": [
    "# concat state and county columns to create geoid for every county, then drop original geoid column\n",
    "\n",
    "popcounty_merge_df['geoid'] = popcounty_merge_df['STATE'] + popcounty_merge_df['COUNTY']\n",
    "popcounty_merge_df = popcounty_merge_df.drop(['state', 'STATEFP', 'COUNTYFP', 'COUNTYNS',\n",
    "                                              'GEOID', 'NAME'], axis = 1)"
   ]
  },
  {
   "cell_type": "code",
   "execution_count": null,
   "metadata": {
    "scrolled": false
   },
   "outputs": [],
   "source": [
    "popcounty_merge_df.head()"
   ]
  },
  {
   "cell_type": "code",
   "execution_count": null,
   "metadata": {},
   "outputs": [],
   "source": [
    "# ready for shape file and mapping\n",
    "# chloropleth is appropriate here"
   ]
  },
  {
   "cell_type": "code",
   "execution_count": null,
   "metadata": {},
   "outputs": [],
   "source": [
    "# read in geojson county shapefile\n",
    "\n",
    "counties = gpd.read_file('../data/tl_2017_us_county.json')\n",
    "print(counties.crs)\n",
    "counties.head(2)"
   ]
  },
  {
   "cell_type": "code",
   "execution_count": null,
   "metadata": {},
   "outputs": [],
   "source": [
    "#take FIPS for territories and drop based on STATEFP column\n",
    "territories_list = ['60', '66', '69', '72', '78']\n",
    "\n",
    "counties = counties[~counties['STATEFP'].isin(territories_list)]\n",
    "\n",
    "fig, ax = plt.subplots(figsize = (20, 20))\n",
    "\n",
    "counties.plot(column = 'COUNTYNS', ax = ax)\n",
    "\n",
    "# to tighten the map\n",
    "plt.xlim(-175, -65);\n"
   ]
  },
  {
   "cell_type": "code",
   "execution_count": null,
   "metadata": {},
   "outputs": [],
   "source": [
    "# drop extra columns\n",
    "counties = counties[['STATEFP', 'COUNTYFP', 'COUNTYNS', 'GEOID', 'NAME', 'geometry']]\n",
    "counties.head()"
   ]
  },
  {
   "cell_type": "code",
   "execution_count": null,
   "metadata": {},
   "outputs": [],
   "source": [
    "potential_df = pd.merge(popcounty_merge_df, counties,\n",
    "                        left_on = 'geoid', \n",
    "                        right_on = 'GEOID')\n",
    "potential_df = potential_df.drop(['SUMLEV', 'STATEFP', 'COUNTYFP', 'COUNTYNS', 'GEOID', 'NAME'], 1)\n",
    "potential_df.head()"
   ]
  },
  {
   "cell_type": "code",
   "execution_count": null,
   "metadata": {},
   "outputs": [],
   "source": [
    "potential_df.to_csv('../data/df_potential.csv', index = False)"
   ]
  },
  {
   "cell_type": "code",
   "execution_count": null,
   "metadata": {},
   "outputs": [],
   "source": [
    "potential_tableau = potential_df[['STNAME', 'CTYNAME', 'POPESTIMATE2019', 'count', 'shop_potential']].copy()\n"
   ]
  },
  {
   "cell_type": "code",
   "execution_count": null,
   "metadata": {},
   "outputs": [],
   "source": [
    "potential_tableau = potential_tableau.rename(columns = {'STNAME' : 'state',\n",
    "                                                        'CTYNAME' : 'county',\n",
    "                                                        'POPESTIMATE2019' : 'pop_2019',\n",
    "                                                        'count' : 'current_shops'})\n",
    "potential_tableau.head()"
   ]
  },
  {
   "cell_type": "code",
   "execution_count": null,
   "metadata": {},
   "outputs": [],
   "source": [
    "potential_tableau.to_csv('../data/df_potential_tableau.csv', index = False)"
   ]
  },
  {
   "cell_type": "code",
   "execution_count": null,
   "metadata": {},
   "outputs": [],
   "source": [
    "potential_geo = pd.merge(counties, popcounty_merge_df,\n",
    "                        left_on = 'GEOID',\n",
    "                        right_on = 'geoid')\n",
    "#potential_geo = potential_geo.drop(['SUMLEV', 'STATEFP', 'COUNTYFP', 'COUNTYNS', 'GEOID', 'NAME'], 1)\n",
    "potential_geo.head()"
   ]
  },
  {
   "cell_type": "code",
   "execution_count": null,
   "metadata": {
    "scrolled": true
   },
   "outputs": [],
   "source": [
    "type(potential_geo)"
   ]
  },
  {
   "cell_type": "markdown",
   "metadata": {},
   "source": [
    "#have tried quite a few different things, but nothing quite works\n",
    "#want a choropleth map reflecting values from shop_potential column and the ability to see the values\n",
    "#by hovering over the area\n",
    "#thinking python might not be right, going to put the data into Tableau and see what I can do there\n",
    "\n",
    "#construct map object\n",
    "m = folium.Map([39.50, -98.35], zoom_start = 4)\n",
    "\n",
    "#create choropleth\n",
    "folium.Choropleth(\n",
    "    geo_data = potential_geo,\n",
    "    name = 'County', #changed\n",
    "    data = potential_geo,\n",
    "    columns = ['CTYNAME', 'shop_potential'],\n",
    "    key_on = 'feature.id',\n",
    "    fill_color = 'YlGn',\n",
    "    fill_opacity = 0.7,\n",
    "    line_opacity = 0.2,\n",
    "    legend_name = 'Potential for New Yarn Shop by County'\n",
    ").add_to(m)\n",
    "\n",
    "#add layer control\n",
    "folium.LayerControl().add_to(m)\n",
    "\n",
    "#save and display\n",
    "m.save('../Data/potential_map.html')\n",
    "\n",
    "m"
   ]
  },
  {
   "cell_type": "code",
   "execution_count": null,
   "metadata": {},
   "outputs": [],
   "source": [
    "potential_geo.to_csv('../data/df_potential_geo.csv', index = False)"
   ]
  },
  {
   "cell_type": "code",
   "execution_count": null,
   "metadata": {},
   "outputs": [],
   "source": []
  }
 ],
 "metadata": {
  "kernelspec": {
   "display_name": "Python 3",
   "language": "python",
   "name": "python3"
  },
  "language_info": {
   "codemirror_mode": {
    "name": "ipython",
    "version": 3
   },
   "file_extension": ".py",
   "mimetype": "text/x-python",
   "name": "python",
   "nbconvert_exporter": "python",
   "pygments_lexer": "ipython3",
   "version": "3.7.6"
  }
 },
 "nbformat": 4,
 "nbformat_minor": 4
}
