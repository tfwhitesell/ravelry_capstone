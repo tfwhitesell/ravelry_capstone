{
 "cells": [
  {
   "cell_type": "code",
   "execution_count": null,
   "metadata": {},
   "outputs": [],
   "source": [
    "import base64\n",
    "import requests\n",
    "import json\n",
    "import pandas as pd\n",
    "import pprint\n",
    "from bs4 import BeautifulSoup as BS"
   ]
  },
  {
   "cell_type": "code",
   "execution_count": null,
   "metadata": {},
   "outputs": [],
   "source": [
    "username = open('../data/rav_user.txt').read()\n",
    "password = open('../data/rav_pass.txt').read()"
   ]
  },
  {
   "cell_type": "markdown",
   "metadata": {},
   "source": [
    "How to retrieve the details I need from pattern listings:\n",
    "\n",
    "- Use code from test notebook to retrieve 10,000 patterns sorted by popularity\n",
    "- Using id column, write for loop (I think, maybe something else is better) to download patter details (an example using R is on RavelRy github)"
   ]
  },
  {
   "cell_type": "markdown",
   "metadata": {},
   "source": [
    "retrieve pattern listings:"
   ]
  },
  {
   "cell_type": "code",
   "execution_count": null,
   "metadata": {},
   "outputs": [],
   "source": [
    "# top 1000 patterns sorted by most projects\n",
    "\n",
    "def get_user_info(query, username, password):\n",
    "    print(query)\n",
    "    print(username)\n",
    "    print(password)\n",
    "    print('https://api.ravelry.com/patterns/search.json')\n",
    "    res = requests.get('https://api.ravelry.com/patterns/search.json?sort=projects&page_size=1000&page=1'.format(query),\n",
    "                       auth=requests.auth.HTTPBasicAuth(username, password))\n",
    "    return res"
   ]
  },
  {
   "cell_type": "code",
   "execution_count": null,
   "metadata": {},
   "outputs": [],
   "source": [
    "res = get_user_info('', username, password)"
   ]
  },
  {
   "cell_type": "code",
   "execution_count": null,
   "metadata": {},
   "outputs": [],
   "source": [
    "res"
   ]
  },
  {
   "cell_type": "code",
   "execution_count": null,
   "metadata": {},
   "outputs": [],
   "source": [
    "result = json.loads(res.content)"
   ]
  },
  {
   "cell_type": "code",
   "execution_count": null,
   "metadata": {
    "scrolled": true
   },
   "outputs": [],
   "source": [
    "result['patterns']"
   ]
  },
  {
   "cell_type": "code",
   "execution_count": null,
   "metadata": {},
   "outputs": [],
   "source": [
    "patterns_df = pd.DataFrame(result['patterns'])"
   ]
  },
  {
   "cell_type": "code",
   "execution_count": null,
   "metadata": {},
   "outputs": [],
   "source": [
    "patterns_df.tail()"
   ]
  },
  {
   "cell_type": "code",
   "execution_count": null,
   "metadata": {},
   "outputs": [],
   "source": [
    "result['paginator']"
   ]
  },
  {
   "cell_type": "code",
   "execution_count": null,
   "metadata": {},
   "outputs": [],
   "source": [
    "result['patterns'][0]"
   ]
  },
  {
   "cell_type": "code",
   "execution_count": null,
   "metadata": {},
   "outputs": [],
   "source": [
    "id_list = patterns_df.id.tolist()"
   ]
  },
  {
   "cell_type": "code",
   "execution_count": null,
   "metadata": {},
   "outputs": [],
   "source": [
    "# manual testing to see where the number of projects declines - very long tail!\n",
    "\n",
    "def get_user_info(query, username, password):\n",
    "    print(query)\n",
    "    print(username)\n",
    "    print(password)\n",
    "    print('https://api.ravelry.com/patterns/search.json')\n",
    "    res = requests.get('https://api.ravelry.com/patterns/search.json?query={}&sort=projects&page_size=1000&page=80'.format(query),\n",
    "                       auth=requests.auth.HTTPBasicAuth(username, password))\n",
    "    return res"
   ]
  },
  {
   "cell_type": "code",
   "execution_count": null,
   "metadata": {},
   "outputs": [],
   "source": [
    "res = get_user_info('', username, password)"
   ]
  },
  {
   "cell_type": "code",
   "execution_count": null,
   "metadata": {},
   "outputs": [],
   "source": [
    "result = json.loads(res.content)\n",
    "result['patterns']\n",
    "patterns2_df = pd.DataFrame(result['patterns'])\n",
    "patterns2_df.tail()"
   ]
  },
  {
   "cell_type": "markdown",
   "metadata": {},
   "source": [
    "thinking through code to retrieve results\n",
    "\n",
    "- pattern ids in list\n",
    "- create empty df\n",
    "- define function to pass in username and password\n",
    "- url to retrieve a single result: base url + patternid as str + .json\n",
    "- for loop to iterate through id_list\n",
    "- append each result to df\n",
    "\n",
    "Initially I was thinking to get top 10,000 but that might not make sense considering the long tail (see notes). Should I cut off at 100 projects? Justification would be that 100 projects is enough to ensure that the pattern appeals to a good number of people. My purpose for this part of the analysis is to determine what type of patterns people like and what common characteristics there are - yarn weights, category, possibly amount of yarn required.\n",
    "\n",
    "If I take the top 30,000 patterns, I'll need to have a for loop and defined function to iterate over the pages - can I pull the ids straight out into a list from the json in the loop?\n",
    "\n",
    "Then use list of ids in a for loop to iterate through pattern details and pull results into a dataframe (as in R example in RavelRy project).\n",
    "\n",
    "notes:\n",
    "\n",
    "10,000th pattern has 241 projects, while 1st pattern has 23.6k.\n",
    "\n",
    "12,000th pattern has 206 projects. 15,000th project has 169. I'm actually a little surprised by the length of the tail.\n",
    "\n",
    "20,000th pattern has 130 projects. 30,000th has 88. 40,000th has 67. 60,000th has 43. 80,000th has 31."
   ]
  },
  {
   "cell_type": "code",
   "execution_count": null,
   "metadata": {},
   "outputs": [],
   "source": [
    "def get_user_info(username, password):\n",
    "    pattid_list = []\n",
    "    for page in range(1, 31):\n",
    "        print(page)\n",
    "        res = requests.get('https://api.ravelry.com/patterns/search.json?sort=projects&page_size=1000&page=' + str(page),\n",
    "                       auth=requests.auth.HTTPBasicAuth(username, password))\n",
    "        result = json.loads(res.content)\n",
    "        patterns_df = pd.DataFrame(result['patterns'])\n",
    "        print(patterns_df.shape)\n",
    "        pattid_list.append(patterns_df.id.tolist())\n",
    "    return pattid_list\n"
   ]
  },
  {
   "cell_type": "code",
   "execution_count": null,
   "metadata": {},
   "outputs": [],
   "source": [
    "pattid_list = get_user_info(username, password)"
   ]
  },
  {
   "cell_type": "code",
   "execution_count": null,
   "metadata": {},
   "outputs": [],
   "source": [
    "print(pattid_list)"
   ]
  },
  {
   "cell_type": "code",
   "execution_count": null,
   "metadata": {},
   "outputs": [],
   "source": [
    "# to flatten list\n",
    "\n",
    "pattid_flat_list = [str(patt_id) for sublist in pattid_list for patt_id in sublist]"
   ]
  },
  {
   "cell_type": "code",
   "execution_count": null,
   "metadata": {
    "scrolled": true
   },
   "outputs": [],
   "source": [
    "len(pattid_flat_list)"
   ]
  },
  {
   "cell_type": "code",
   "execution_count": null,
   "metadata": {},
   "outputs": [],
   "source": [
    "# method performed on a string, links each item in the iterable\n",
    "\n",
    "'+'.join(pattid_flat_list)"
   ]
  },
  {
   "cell_type": "code",
   "execution_count": null,
   "metadata": {},
   "outputs": [],
   "source": [
    "pattid_list[0]"
   ]
  },
  {
   "cell_type": "code",
   "execution_count": null,
   "metadata": {},
   "outputs": [],
   "source": [
    "# turn ids contained in the first list into strings\n",
    "\n",
    "pattid_list_str = [str(patt_id) for patt_id in pattid_list[0]]"
   ]
  },
  {
   "cell_type": "code",
   "execution_count": null,
   "metadata": {},
   "outputs": [],
   "source": [
    "res = requests.get('https://api.ravelry.com/patterns.json?ids=' + '+'.join(pattid_list_str[:200]), auth=requests.auth.HTTPBasicAuth(username, password))"
   ]
  },
  {
   "cell_type": "code",
   "execution_count": null,
   "metadata": {},
   "outputs": [],
   "source": [
    "res.content"
   ]
  },
  {
   "cell_type": "code",
   "execution_count": null,
   "metadata": {},
   "outputs": [],
   "source": [
    "res = requests.get('https://api.ravelry.com/patterns.json?ids=' + '+'.join(pattid_flat_list), auth=requests.auth.HTTPBasicAuth(username, password))"
   ]
  },
  {
   "cell_type": "code",
   "execution_count": null,
   "metadata": {},
   "outputs": [],
   "source": [
    "res.content"
   ]
  },
  {
   "cell_type": "code",
   "execution_count": null,
   "metadata": {},
   "outputs": [],
   "source": [
    "# not as expected, I'm not sure why - come back to the problem when my brain is fresher\n",
    "\n",
    "def get_details(username, password, pattids_list):\n",
    "    patt_details_list = []\n",
    "    for ids in pattids_list:\n",
    "        print(ids)\n",
    "        res = requests.get('https://api.ravelry.com/patterns.json?ids=' +\n",
    "                           '+'.join(pattid_list_str[:2]), auth=requests.auth.HTTPBasicAuth(username, password))\n",
    "        result = json.loads(res.content)\n",
    "        pattdetail_df = pd.DataFrame(result['patterns'])\n",
    "        print(pattdetail_df.shape)\n",
    "        patt_details_list.append(pattdetail_df)\n",
    "    return pd.concat(patt_details_list)\n",
    "        \n"
   ]
  },
  {
   "cell_type": "code",
   "execution_count": null,
   "metadata": {},
   "outputs": [],
   "source": [
    "pattdetails_df = get_details(username, password, pattid_list_str)"
   ]
  },
  {
   "cell_type": "code",
   "execution_count": null,
   "metadata": {},
   "outputs": [],
   "source": [
    "# start here, don't do for loop inside function, break list of ids into managable chunks and put that into the request.\n",
    "# also, the data is wide instead of long (each pattern's data is in a column of 50 rows instead of 1 row across)\n",
    "# maybe if I go back to the function where I'm pulling the ids, make the page size smaller, then I could pass in\n",
    "# each list?\n",
    "\n",
    "\n",
    "res = requests.get('https://api.ravelry.com/patterns.json?ids=' +\n",
    "                   '+'.join(pattid_list_str[:200]), auth=requests.auth.HTTPBasicAuth(username, password))\n"
   ]
  },
  {
   "cell_type": "markdown",
   "metadata": {},
   "source": [
    "Plan of attack\n",
    "\n",
    "First, write chunk of code to return pattern details for a single id. Should be made into a dataframe and pivoted so that information is in a row instead of a column. (melt, wide_to_long, transpose (pd.t))\n",
    "\n",
    "Second, expand the code to take multiple ids. Not quite sure how to do this, but maybe once I accomplish the first goal I'll have a better idea. (use range function?)"
   ]
  },
  {
   "cell_type": "code",
   "execution_count": null,
   "metadata": {},
   "outputs": [],
   "source": [
    "# first part of plan accomplished! Glad I was at the point of having a df when I talked with M&M - Mary suggested\n",
    "# transpose from pandas which accomplished the final part very easily. Magic!\n",
    "\n",
    "first = requests.get('https://api.ravelry.com/patterns.json?ids=' +\n",
    "                     str(211562), auth=requests.auth.HTTPBasicAuth(username, password))\n",
    "first_result = json.loads(first.content)\n",
    "first_detail_df = pd.DataFrame(first_result['patterns']).T\n"
   ]
  },
  {
   "cell_type": "code",
   "execution_count": null,
   "metadata": {},
   "outputs": [],
   "source": [
    "first_detail_df"
   ]
  },
  {
   "cell_type": "code",
   "execution_count": null,
   "metadata": {},
   "outputs": [],
   "source": [
    "def second_get_details(username, password, test_id_list):\n",
    "    "
   ]
  }
 ],
 "metadata": {
  "kernelspec": {
   "display_name": "Python 3",
   "language": "python",
   "name": "python3"
  },
  "language_info": {
   "codemirror_mode": {
    "name": "ipython",
    "version": 3
   },
   "file_extension": ".py",
   "mimetype": "text/x-python",
   "name": "python",
   "nbconvert_exporter": "python",
   "pygments_lexer": "ipython3",
   "version": "3.7.6"
  }
 },
 "nbformat": 4,
 "nbformat_minor": 4
}
