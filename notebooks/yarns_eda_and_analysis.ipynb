{
 "cells": [
  {
   "cell_type": "markdown",
   "metadata": {},
   "source": [
    "# EDA on yarn data"
   ]
  },
  {
   "cell_type": "code",
   "execution_count": null,
   "metadata": {},
   "outputs": [],
   "source": [
    "import pandas as pd\n",
    "import matplotlib.pyplot as plt\n",
    "import seaborn as sns\n",
    "import numpy as np\n",
    "\n",
    "%matplotlib inline"
   ]
  },
  {
   "cell_type": "code",
   "execution_count": null,
   "metadata": {},
   "outputs": [],
   "source": [
    "yarns_df = pd.read_csv('../data/df_yarn_clean2.csv')"
   ]
  },
  {
   "cell_type": "code",
   "execution_count": null,
   "metadata": {},
   "outputs": [],
   "source": [
    "pd.set_option('display.max_columns', 60)\n",
    "yarns_df.head()"
   ]
  },
  {
   "cell_type": "code",
   "execution_count": null,
   "metadata": {},
   "outputs": [],
   "source": [
    "yarns_df.describe()"
   ]
  },
  {
   "cell_type": "code",
   "execution_count": null,
   "metadata": {
    "scrolled": true
   },
   "outputs": [],
   "source": [
    "yarns_df.info()"
   ]
  },
  {
   "cell_type": "code",
   "execution_count": null,
   "metadata": {},
   "outputs": [],
   "source": [
    "# count of discontinued yarns\n",
    "yarns_df['discontinued'].value_counts()\n"
   ]
  },
  {
   "cell_type": "code",
   "execution_count": null,
   "metadata": {},
   "outputs": [],
   "source": [
    "# count of discontinued vs current yarns\n",
    "\n",
    "# Pie chart, where the slices will be ordered and plotted counter-clockwise:\n",
    "labels = ['In Production', 'Discontinued']\n",
    "slices = [6172, 3828]\n",
    "colors = ['#EE6E62', '#F3F4F0']\n",
    "\n",
    "plt.pie(slices, labels = labels, colors = colors, startangle=90, autopct='%1.1f%%')\n",
    "plt.title('Discontinued vs In Production Yarns', fontname = 'Lucida Grande', fontsize = 24)\n",
    "\n",
    "plt.savefig('../images/disc_yarn.png', bbox_inches = 'tight');"
   ]
  },
  {
   "cell_type": "code",
   "execution_count": null,
   "metadata": {},
   "outputs": [],
   "source": [
    "# was going to analyze just currently available yarn, but I think will get a more accurate picture from all data\n",
    "yarns_current_df = yarns_df.loc[yarns_df['discontinued'] == False]\n",
    "yarns_current_df.head()"
   ]
  },
  {
   "cell_type": "code",
   "execution_count": null,
   "metadata": {},
   "outputs": [],
   "source": [
    "yarns_current_df.describe()"
   ]
  },
  {
   "cell_type": "code",
   "execution_count": null,
   "metadata": {
    "scrolled": true
   },
   "outputs": [],
   "source": [
    "yarns_df['machine_washable'].value_counts(dropna = False)"
   ]
  },
  {
   "cell_type": "code",
   "execution_count": null,
   "metadata": {},
   "outputs": [],
   "source": [
    "# I can probably replace null values in machine-washable with False, but wait until more EDA is done to be sure\n",
    "nullmachine_df = yarns_df.loc[yarns_df['machine_washable'].isna()]\n",
    "nullmachine_df.head()"
   ]
  },
  {
   "cell_type": "code",
   "execution_count": null,
   "metadata": {},
   "outputs": [],
   "source": [
    "# null machine-washable yarns by fiber type\n",
    "\n",
    "nullmachine_list = nullmachine_df['fiber_catt_name'].value_counts()\n",
    "nullmachine_list"
   ]
  },
  {
   "cell_type": "code",
   "execution_count": null,
   "metadata": {},
   "outputs": [],
   "source": [
    "# do this better when I have time\n",
    "\n",
    "yarns_df['machine_washable'] = yarns_df['machine_washable'].fillna(False)\n",
    "yarns_df.head()"
   ]
  },
  {
   "cell_type": "code",
   "execution_count": null,
   "metadata": {},
   "outputs": [],
   "source": [
    "yarns_df['machine_washable'].value_counts(dropna = False)"
   ]
  },
  {
   "cell_type": "code",
   "execution_count": null,
   "metadata": {},
   "outputs": [],
   "source": [
    "# machine washability\n",
    "\n",
    "# Pie chart, where the slices will be ordered and plotted counter-clockwise:\n",
    "labels = ['Machine Washable','Not Machine Washable']\n",
    "slices = [5215, 4785]\n",
    "colors = ['#EE6E62', '#F3F4F0']\n",
    "\n",
    "plt.pie(slices, labels = labels, colors = colors, startangle = 90, autopct = '%1.1f%%')\n",
    "plt.title('Distribution of Machine Washable vs Non Machine Washable Yarns', fontname = 'Lucida Grande', fontsize = 24)\n",
    "\n",
    "plt.savefig('../images/wash_yarn.png', bbox_inches = 'tight');"
   ]
  },
  {
   "cell_type": "code",
   "execution_count": null,
   "metadata": {},
   "outputs": [],
   "source": [
    "machineyarn_df = yarns_df.loc[yarns_df['machine_washable'] == True]\n",
    "nonmachineyarn_df = yarns_df.loc[yarns_df['machine_washable'] == False]"
   ]
  },
  {
   "cell_type": "code",
   "execution_count": null,
   "metadata": {},
   "outputs": [],
   "source": [
    "# count of machine washable by weight\n",
    "\n",
    "plt.figure(figsize = (30, 10))\n",
    "\n",
    "# value_counts to get frequency, sort_values to put in descending order\n",
    "plotdata = machineyarn_df['yarn_weight'].value_counts().nlargest(5).sort_values()\n",
    "\n",
    "# Plot a bar chart\n",
    "plotdata.plot(kind = 'barh', color = '#EE6E62', fontsize = 14)\n",
    "\n",
    "#plt.xticks(rotation = 80, horizontalalignment = 'center')\n",
    "plt.title('Count of Machine Washable Yarns by Yarn Weight', fontname = 'Lucida Grande', fontsize = 24)\n",
    "#plt.xlabel('Count', fontname = 'Lucida Grande', fontsize = 16)\n",
    "#plt.ylabel('Category', fontname = 'Lucida Grande', fontsize = 16)\n",
    "\n",
    "plt.savefig('../images/machine_weight.png', bbox_inches = 'tight');"
   ]
  },
  {
   "cell_type": "code",
   "execution_count": null,
   "metadata": {},
   "outputs": [],
   "source": [
    "# count of non machine washable by weight\n",
    "\n",
    "plt.figure(figsize = (30, 10))\n",
    "\n",
    "# value_counts to get frequency, sort_values to put in descending order\n",
    "plotdata = nonmachineyarn_df['yarn_weight'].value_counts().nlargest(5).sort_values()\n",
    "\n",
    "# Plot a bar chart\n",
    "plotdata.plot(kind = 'barh', color = '#EE6E62', fontsize = 14)\n",
    "\n",
    "#plt.xticks(rotation = 80, horizontalalignment = 'center')\n",
    "plt.title('Count of Non Machine Washable Yarns by Yarn Weight', fontname = 'Lucida Grande', fontsize = 24)\n",
    "#plt.xlabel('Count', fontname = 'Lucida Grande', fontsize = 16)\n",
    "#plt.ylabel('Category', fontname = 'Lucida Grande', fontsize = 16)\n",
    "\n",
    "plt.savefig('../images/nonmachine_weight.png', bbox_inches = 'tight');"
   ]
  },
  {
   "cell_type": "code",
   "execution_count": null,
   "metadata": {},
   "outputs": [],
   "source": []
  }
 ],
 "metadata": {
  "kernelspec": {
   "display_name": "Python 3",
   "language": "python",
   "name": "python3"
  },
  "language_info": {
   "codemirror_mode": {
    "name": "ipython",
    "version": 3
   },
   "file_extension": ".py",
   "mimetype": "text/x-python",
   "name": "python",
   "nbconvert_exporter": "python",
   "pygments_lexer": "ipython3",
   "version": "3.7.6"
  }
 },
 "nbformat": 4,
 "nbformat_minor": 4
}
